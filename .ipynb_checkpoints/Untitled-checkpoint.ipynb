{
 "cells": [
  {
   "cell_type": "code",
   "execution_count": 16,
   "id": "d0b50608-52a8-4851-9b63-a60325b1231a",
   "metadata": {
    "collapsed": true,
    "jupyter": {
     "outputs_hidden": true
    }
   },
   "outputs": [
    {
     "name": "stdout",
     "output_type": "stream",
     "text": [
      "<Repo#6179565935606188880 path=./.aim read_only=None>\n"
     ]
    },
    {
     "name": "stderr",
     "output_type": "stream",
     "text": [
      "  0%|                                                                       | 0/654 [00:00<?, ?it/s]"
     ]
    },
    {
     "name": "stdout",
     "output_type": "stream",
     "text": [
      "{'h_params': {'budget': 25000, 'connection_temperature': 1, 'lambda': 10, 'mode': 'UTCGP-NUM-NOPRECOR', 'mutation_rate': 1.1, 'n_nodes': 20, 'output_mutation_rate': 0.3}}\n"
     ]
    },
    {
     "name": "stderr",
     "output_type": "stream",
     "text": [
      "  0%|▏                                                              | 2/654 [00:00<01:16,  8.54it/s]"
     ]
    },
    {
     "name": "stdout",
     "output_type": "stream",
     "text": [
      "{'h_params': {'budget': 25000, 'connection_temperature': 1, 'lambda': 10, 'mode': 'UTCGP-NUM-NOPRECOR', 'mutation_rate': 1.1, 'n_nodes': 20, 'output_mutation_rate': 0.3}}\n",
      "{'h_params': {'budget': 25000, 'connection_temperature': 1, 'lambda': 10, 'mode': 'UTCGP-NUM-NOPRECOR', 'mutation_rate': 1.1, 'n_nodes': 20, 'output_mutation_rate': 0.3}}\n",
      "{'h_params': {'budget': 25000, 'connection_temperature': 1, 'lambda': 10, 'mode': 'UTCGP-NUM-NOPRECOR', 'mutation_rate': 1.1, 'n_nodes': 20, 'output_mutation_rate': 0.3}}\n"
     ]
    },
    {
     "name": "stderr",
     "output_type": "stream",
     "text": [
      "  1%|▍                                                              | 5/654 [00:00<01:26,  7.48it/s]"
     ]
    },
    {
     "name": "stdout",
     "output_type": "stream",
     "text": [
      "{'h_params': {'budget': 25000, 'connection_temperature': 1, 'lambda': 10, 'mode': 'UTCGP-NUM-NOPRECOR', 'mutation_rate': 1.1, 'n_nodes': 20, 'output_mutation_rate': 0.3}}\n",
      "{'h_params': {'budget': 25000, 'connection_temperature': 1, 'lambda': 10, 'mode': 'UTCGP-NUM-NOPRECOR', 'mutation_rate': 1.1, 'n_nodes': 20, 'output_mutation_rate': 0.3}}\n"
     ]
    },
    {
     "name": "stderr",
     "output_type": "stream",
     "text": [
      "  1%|▋                                                              | 7/654 [00:00<01:35,  6.75it/s]"
     ]
    },
    {
     "name": "stdout",
     "output_type": "stream",
     "text": [
      "{'h_params': {'budget': 25000, 'connection_temperature': 1, 'lambda': 10, 'mode': 'UTCGP-NUM-NOPRECOR', 'mutation_rate': 1.1, 'n_nodes': 20, 'output_mutation_rate': 0.3}}\n"
     ]
    },
    {
     "name": "stderr",
     "output_type": "stream",
     "text": [
      "  1%|▊                                                              | 8/654 [00:01<01:57,  5.48it/s]"
     ]
    },
    {
     "name": "stdout",
     "output_type": "stream",
     "text": [
      "{'h_params': {'budget': 25000, 'connection_temperature': 1, 'lambda': 10, 'mode': 'UTCGP-NUM-NOPRECOR', 'mutation_rate': 1.1, 'n_nodes': 20, 'output_mutation_rate': 0.3}}\n",
      "{'h_params': {'budget': 25000, 'connection_temperature': 1, 'lambda': 10, 'mode': 'UTCGP-NUM-NOPRECOR', 'mutation_rate': 1.1, 'n_nodes': 20, 'output_mutation_rate': 0.3}}\n",
      "{'h_params': {'budget': 25000, 'connection_temperature': 1, 'lambda': 10, 'mode': 'UTCGP-NUM-NOPRECOR', 'mutation_rate': 1.1, 'n_nodes': 20, 'output_mutation_rate': 0.3}}\n"
     ]
    },
    {
     "name": "stderr",
     "output_type": "stream",
     "text": [
      "  2%|█                                                             | 11/654 [00:01<01:34,  6.80it/s]"
     ]
    },
    {
     "name": "stdout",
     "output_type": "stream",
     "text": [
      "{'h_params': {'budget': 25000, 'connection_temperature': 1, 'lambda': 10, 'mode': 'UTCGP-NUM-NOPRECOR', 'mutation_rate': 1.1, 'n_nodes': 20, 'output_mutation_rate': 0.3}}\n"
     ]
    },
    {
     "name": "stderr",
     "output_type": "stream",
     "text": [
      "  2%|█▏                                                            | 12/654 [00:01<01:51,  5.74it/s]"
     ]
    },
    {
     "name": "stdout",
     "output_type": "stream",
     "text": [
      "{'h_params': {'budget': 25000, 'connection_temperature': 1, 'lambda': 10, 'mode': 'UTCGP-NUM-NOPRECOR', 'mutation_rate': 1.1, 'n_nodes': 20, 'output_mutation_rate': 0.3}}\n",
      "{'h_params': {'budget': 25000, 'connection_temperature': 1, 'lambda': 10, 'mode': 'UTCGP-NUM-NOPRECOR', 'mutation_rate': 1.1, 'n_nodes': 20, 'output_mutation_rate': 0.3}}\n",
      "{'h_params': {'budget': 25000, 'connection_temperature': 1, 'lambda': 10, 'mode': 'UTCGP-NUM-NOPRECOR', 'mutation_rate': 1.1, 'n_nodes': 20, 'output_mutation_rate': 0.3}}\n",
      "{'h_params': {'budget': 25000, 'connection_temperature': 1, 'lambda': 10, 'mode': 'UTCGP-NUM-NOPRECOR', 'mutation_rate': 1.1, 'n_nodes': 20, 'output_mutation_rate': 0.3}}\n"
     ]
    },
    {
     "name": "stderr",
     "output_type": "stream",
     "text": [
      "  3%|█▌                                                            | 17/654 [00:02<01:20,  7.90it/s]"
     ]
    },
    {
     "name": "stdout",
     "output_type": "stream",
     "text": [
      "{'h_params': {'budget': 25000, 'connection_temperature': 1, 'lambda': 10, 'mode': 'UTCGP-NUM-NOPRECOR', 'mutation_rate': 1.1, 'n_nodes': 20, 'output_mutation_rate': 0.3}}\n",
      "{'h_params': {'budget': 25000, 'connection_temperature': 1, 'lambda': 10, 'mode': 'UTCGP-NUM-NOPRECOR', 'mutation_rate': 1.1, 'n_nodes': 20, 'output_mutation_rate': 0.3}}\n"
     ]
    },
    {
     "name": "stderr",
     "output_type": "stream",
     "text": [
      "  3%|█▋                                                            | 18/654 [00:02<01:40,  6.30it/s]"
     ]
    },
    {
     "name": "stdout",
     "output_type": "stream",
     "text": [
      "{'h_params': {'budget': 25000, 'connection_temperature': 1, 'lambda': 10, 'mode': 'UTCGP-NUM-NOPRECOR', 'mutation_rate': 1.1, 'n_nodes': 20, 'output_mutation_rate': 0.3}}\n"
     ]
    },
    {
     "name": "stderr",
     "output_type": "stream",
     "text": [
      "  3%|█▊                                                            | 19/654 [00:03<02:03,  5.15it/s]"
     ]
    },
    {
     "name": "stdout",
     "output_type": "stream",
     "text": [
      "{'h_params': {'budget': 25000, 'connection_temperature': 1, 'lambda': 10, 'mode': 'UTCGP-NUM-NOPRECOR', 'mutation_rate': 1.1, 'n_nodes': 20, 'output_mutation_rate': 0.3}}\n",
      "{'h_params': {'budget': 25000, 'connection_temperature': 1, 'lambda': 10, 'mode': 'UTCGP-NUM-NOPRECOR', 'mutation_rate': 1.1, 'n_nodes': 20, 'output_mutation_rate': 0.3}}\n",
      "{'h_params': {'budget': 25000, 'connection_temperature': 1, 'lambda': 10, 'mode': 'UTCGP-NUM-NOPRECOR', 'mutation_rate': 1.1, 'n_nodes': 20, 'output_mutation_rate': 0.3}}\n",
      "{'h_params': {'budget': 25000, 'connection_temperature': 1, 'lambda': 10, 'mode': 'UTCGP-NUM-NOPRECOR', 'mutation_rate': 1.1, 'n_nodes': 20, 'output_mutation_rate': 0.3}}\n",
      "{'h_params': {'budget': 25000, 'connection_temperature': 1, 'lambda': 10, 'mode': 'UTCGP-NUM-NOPRECOR', 'mutation_rate': 1.1, 'n_nodes': 20, 'output_mutation_rate': 0.3}}\n"
     ]
    },
    {
     "name": "stderr",
     "output_type": "stream",
     "text": [
      "  4%|██▎                                                           | 24/654 [00:03<01:17,  8.13it/s]"
     ]
    },
    {
     "name": "stdout",
     "output_type": "stream",
     "text": [
      "{'h_params': {'budget': 25000, 'connection_temperature': 1, 'lambda': 10, 'mode': 'UTCGP-NUM-NOPRECOR', 'mutation_rate': 1.1, 'n_nodes': 20, 'output_mutation_rate': 0.3}}\n",
      "{'h_params': {'budget': 25000, 'connection_temperature': 1, 'lambda': 10, 'mode': 'UTCGP-NUM-NOPRECOR', 'mutation_rate': 1.1, 'n_nodes': 20, 'output_mutation_rate': 0.3}}\n",
      "{'h_params': {'budget': 25000, 'connection_temperature': 1, 'lambda': 10, 'mode': 'UTCGP-NUM-NOPRECOR', 'mutation_rate': 1.1, 'n_nodes': 20, 'output_mutation_rate': 0.3}}\n"
     ]
    },
    {
     "name": "stderr",
     "output_type": "stream",
     "text": [
      "  4%|██▌                                                           | 27/654 [00:03<01:16,  8.17it/s]"
     ]
    },
    {
     "name": "stdout",
     "output_type": "stream",
     "text": [
      "{'h_params': {'budget': 25000, 'connection_temperature': 1, 'lambda': 10, 'mode': 'UTCGP-NUM-NOPRECOR', 'mutation_rate': 1.1, 'n_nodes': 20, 'output_mutation_rate': 0.3}}\n",
      "{'h_params': {'budget': 25000, 'connection_temperature': 1, 'lambda': 10, 'mode': 'UTCGP-NUM-NOPRECOR', 'mutation_rate': 1.1, 'n_nodes': 20, 'output_mutation_rate': 0.3}}\n"
     ]
    },
    {
     "name": "stderr",
     "output_type": "stream",
     "text": [
      "  4%|██▋                                                           | 29/654 [00:04<01:21,  7.70it/s]"
     ]
    },
    {
     "name": "stdout",
     "output_type": "stream",
     "text": [
      "{'h_params': {'budget': 25000, 'connection_temperature': 1, 'lambda': 10, 'mode': 'UTCGP-NUM-NOPRECOR', 'mutation_rate': 1.1, 'n_nodes': 20, 'output_mutation_rate': 0.3}}\n",
      "{'h_params': {'budget': 25000, 'connection_temperature': 1, 'lambda': 10, 'mode': 'UTCGP-NUM-NOPRECOR', 'mutation_rate': 1.1, 'n_nodes': 20, 'output_mutation_rate': 0.3}}\n"
     ]
    },
    {
     "name": "stderr",
     "output_type": "stream",
     "text": [
      "  5%|███▎                                                          | 35/654 [00:04<00:56, 10.99it/s]"
     ]
    },
    {
     "name": "stdout",
     "output_type": "stream",
     "text": [
      "{'h_params': {'budget': 25000, 'connection_temperature': 1, 'lambda': 10, 'mode': 'UTCGP-NUM-NOPRECOR', 'mutation_rate': 1.1, 'n_nodes': 20, 'output_mutation_rate': 0.3}}\n",
      "{'h_params': {'budget': 25000, 'connection_temperature': 1, 'lambda': 10, 'mode': 'UTCGP-NUM-NOPRECOR', 'mutation_rate': 1.1, 'n_nodes': 20, 'output_mutation_rate': 0.3}}\n",
      "{'h_params': {'budget': 25000, 'connection_temperature': 1, 'lambda': 10, 'mode': 'UTCGP-NUM-NOPRECOR', 'mutation_rate': 1.1, 'n_nodes': 20, 'output_mutation_rate': 0.3}}\n",
      "{'h_params': {'budget': 25000, 'connection_temperature': 1, 'lambda': 10, 'mode': 'UTCGP-NUM-NOPRECOR', 'mutation_rate': 1.1, 'n_nodes': 20, 'output_mutation_rate': 0.3}}\n",
      "{'h_params': {'budget': 25000, 'connection_temperature': 1, 'lambda': 10, 'mode': 'UTCGP-NUM-NOPRECOR', 'mutation_rate': 1.1, 'n_nodes': 20, 'output_mutation_rate': 0.3}}\n",
      "{'h_params': {'budget': 25000, 'connection_temperature': 1, 'lambda': 10, 'mode': 'UTCGP-NUM-NOPRECOR', 'mutation_rate': 1.1, 'n_nodes': 20, 'output_mutation_rate': 0.3}}\n",
      "{'h_params': {'budget': 25000, 'connection_temperature': 1, 'lambda': 10, 'mode': 'UTCGP-NUM-NOPRECOR', 'mutation_rate': 1.1, 'n_nodes': 20, 'output_mutation_rate': 0.3}}\n"
     ]
    },
    {
     "name": "stderr",
     "output_type": "stream",
     "text": [
      "  6%|███▉                                                          | 42/654 [00:04<00:43, 13.91it/s]"
     ]
    },
    {
     "name": "stdout",
     "output_type": "stream",
     "text": [
      "{'h_params': {'budget': 25000, 'connection_temperature': 1, 'lambda': 10, 'mode': 'UTCGP-NUM-NOPRECOR', 'mutation_rate': 1.1, 'n_nodes': 20, 'output_mutation_rate': 0.3}}\n",
      "{'h_params': {'budget': 25000, 'connection_temperature': 1, 'lambda': 10, 'mode': 'UTCGP-NUM-NOPRECOR', 'mutation_rate': 1.1, 'n_nodes': 20, 'output_mutation_rate': 0.3}}\n",
      "{'h_params': {'budget': 25000, 'connection_temperature': 1, 'lambda': 10, 'mode': 'UTCGP-NUM-NOPRECOR', 'mutation_rate': 1.1, 'n_nodes': 20, 'output_mutation_rate': 0.3}}\n",
      "{'h_params': {'budget': 25000, 'connection_temperature': 1, 'lambda': 10, 'mode': 'UTCGP-NUM-NOPRECOR', 'mutation_rate': 1.1, 'n_nodes': 20, 'output_mutation_rate': 0.3}}\n",
      "{'h_params': {'budget': 25000, 'connection_temperature': 1, 'lambda': 10, 'mode': 'UTCGP-NUM-NOPRECOR', 'mutation_rate': 1.1, 'n_nodes': 20, 'output_mutation_rate': 0.3}}\n",
      "{'h_params': {'budget': 25000, 'connection_temperature': 1, 'lambda': 10, 'mode': 'UTCGP-NUM-NOPRECOR', 'mutation_rate': 1.1, 'n_nodes': 20, 'output_mutation_rate': 0.3}}\n",
      "{'h_params': {'budget': 25000, 'connection_temperature': 1, 'lambda': 10, 'mode': 'UTCGP-NUM-NOPRECOR', 'mutation_rate': 1.1, 'n_nodes': 20, 'output_mutation_rate': 0.3}}\n"
     ]
    },
    {
     "name": "stderr",
     "output_type": "stream",
     "text": [
      "  7%|████▋                                                         | 49/654 [00:05<00:39, 15.19it/s]"
     ]
    },
    {
     "name": "stdout",
     "output_type": "stream",
     "text": [
      "{'h_params': {'budget': 25000, 'connection_temperature': 1, 'lambda': 10, 'mode': 'UTCGP-NUM-NOPRECOR', 'mutation_rate': 1.1, 'n_nodes': 20, 'output_mutation_rate': 0.3}}\n",
      "{'h_params': {'budget': 25000, 'connection_temperature': 1, 'lambda': 10, 'mode': 'UTCGP-NUM-NOPRECOR', 'mutation_rate': 1.1, 'n_nodes': 20, 'output_mutation_rate': 0.3}}\n",
      "{'h_params': {'budget': 25000, 'connection_temperature': 1, 'lambda': 10, 'mode': 'UTCGP-NUM-NOPRECOR', 'mutation_rate': 1.1, 'n_nodes': 20, 'output_mutation_rate': 0.3}}\n",
      "{'h_params': {'budget': 25000, 'connection_temperature': 1, 'lambda': 10, 'mode': 'UTCGP-NUM-NOPRECOR', 'mutation_rate': 1.1, 'n_nodes': 20, 'output_mutation_rate': 0.3}}\n",
      "{'h_params': {'budget': 25000, 'connection_temperature': 1, 'lambda': 10, 'mode': 'UTCGP-NUM-NOPRECOR', 'mutation_rate': 1.1, 'n_nodes': 20, 'output_mutation_rate': 0.3}}\n",
      "{'h_params': {'budget': 25000, 'connection_temperature': 1, 'lambda': 10, 'mode': 'UTCGP-NUM-NOPRECOR', 'mutation_rate': 1.1, 'n_nodes': 20, 'output_mutation_rate': 0.3}}\n"
     ]
    },
    {
     "name": "stderr",
     "output_type": "stream",
     "text": [
      "  8%|████▉                                                         | 52/654 [00:05<00:48, 12.46it/s]"
     ]
    },
    {
     "name": "stdout",
     "output_type": "stream",
     "text": [
      "{'h_params': {'budget': 25000, 'connection_temperature': 1, 'lambda': 10, 'mode': 'UTCGP-NUM-NOPRECOR', 'mutation_rate': 1.1, 'n_nodes': 20, 'output_mutation_rate': 0.3}}\n",
      "{'h_params': {'budget': 25000, 'connection_temperature': 1, 'lambda': 10, 'mode': 'UTCGP-NUM-NOPRECOR', 'mutation_rate': 1.1, 'n_nodes': 20, 'output_mutation_rate': 0.3}}\n"
     ]
    },
    {
     "name": "stderr",
     "output_type": "stream",
     "text": [
      "  8%|█████                                                         | 54/654 [00:06<01:00,  9.93it/s]"
     ]
    },
    {
     "name": "stdout",
     "output_type": "stream",
     "text": [
      "{'h_params': {'budget': 25000, 'connection_temperature': 1, 'lambda': 10, 'mode': 'UTCGP-NUM-NOPRECOR', 'mutation_rate': 1.1, 'n_nodes': 20, 'output_mutation_rate': 0.3}}\n",
      "{'h_params': {'budget': 25000, 'connection_temperature': 1, 'lambda': 10, 'mode': 'UTCGP-NUM-NOPRECOR', 'mutation_rate': 1.1, 'n_nodes': 20, 'output_mutation_rate': 0.3}}\n",
      "{'h_params': {'budget': 25000, 'connection_temperature': 1, 'lambda': 10, 'mode': 'UTCGP-NUM-NOPRECOR', 'mutation_rate': 1.1, 'n_nodes': 20, 'output_mutation_rate': 0.3}}\n",
      "{'h_params': {'budget': 25000, 'connection_temperature': 1, 'lambda': 10, 'mode': 'UTCGP-NUM-NOPRECOR', 'mutation_rate': 1.1, 'n_nodes': 20, 'output_mutation_rate': 0.3}}\n",
      "{'h_params': {'budget': 25000, 'connection_temperature': 1, 'lambda': 10, 'mode': 'UTCGP-NUM-NOPRECOR', 'mutation_rate': 1.1, 'n_nodes': 20, 'output_mutation_rate': 0.3}}\n"
     ]
    },
    {
     "name": "stderr",
     "output_type": "stream",
     "text": [
      "  9%|█████▍                                                        | 58/654 [00:06<00:57, 10.33it/s]"
     ]
    },
    {
     "name": "stdout",
     "output_type": "stream",
     "text": [
      "{'h_params': {'budget': 25000, 'connection_temperature': 1, 'lambda': 10, 'mode': 'UTCGP-NUM-NOPRECOR', 'mutation_rate': 1.1, 'n_nodes': 20, 'output_mutation_rate': 0.3}}\n",
      "{'h_params': {'budget': 25000, 'connection_temperature': 1, 'lambda': 10, 'mode': 'UTCGP-NUM-NOPRECOR', 'mutation_rate': 1.1, 'n_nodes': 20, 'output_mutation_rate': 0.3}}\n",
      "{'h_params': {'budget': 25000, 'connection_temperature': 1, 'lambda': 10, 'mode': 'UTCGP-NUM-NOPRECOR', 'mutation_rate': 1.1, 'n_nodes': 20, 'output_mutation_rate': 0.3}}\n",
      "{'h_params': {'budget': 25000, 'connection_temperature': 1, 'lambda': 10, 'mode': 'UTCGP-NUM-NOPRECOR', 'mutation_rate': 1.1, 'n_nodes': 20, 'output_mutation_rate': 0.3}}\n",
      "{'h_params': {'budget': 25000, 'connection_temperature': 1, 'lambda': 10, 'mode': 'UTCGP-NUM-NOPRECOR', 'mutation_rate': 1.1, 'n_nodes': 20, 'output_mutation_rate': 0.3}}\n"
     ]
    },
    {
     "name": "stderr",
     "output_type": "stream",
     "text": [
      " 10%|█████▉                                                        | 63/654 [00:06<00:50, 11.63it/s]"
     ]
    },
    {
     "name": "stdout",
     "output_type": "stream",
     "text": [
      "{'h_params': {'budget': 25000, 'connection_temperature': 1, 'lambda': 10, 'mode': 'UTCGP-NUM-NOPRECOR', 'mutation_rate': 1.1, 'n_nodes': 20, 'output_mutation_rate': 0.3}}\n",
      "{'h_params': {'budget': 25000, 'connection_temperature': 1, 'lambda': 10, 'mode': 'UTCGP-NUM-NOPRECOR', 'mutation_rate': 1.1, 'n_nodes': 20, 'output_mutation_rate': 0.3}}\n"
     ]
    },
    {
     "name": "stderr",
     "output_type": "stream",
     "text": [
      " 10%|██████▏                                                       | 65/654 [00:07<00:57, 10.30it/s]"
     ]
    },
    {
     "name": "stdout",
     "output_type": "stream",
     "text": [
      "{'h_params': {'budget': 25000, 'connection_temperature': 1, 'lambda': 10, 'mode': 'UTCGP-NUM-NOPRECOR', 'mutation_rate': 1.1, 'n_nodes': 20, 'output_mutation_rate': 0.3}}\n"
     ]
    },
    {
     "name": "stderr",
     "output_type": "stream",
     "text": [
      " 10%|██████▎                                                       | 67/654 [00:07<01:07,  8.68it/s]"
     ]
    },
    {
     "name": "stdout",
     "output_type": "stream",
     "text": [
      "{'h_params': {'budget': 25000, 'connection_temperature': 1, 'lambda': 10, 'mode': 'UTCGP-NUM-NOPRECOR', 'mutation_rate': 1.1, 'n_nodes': 20, 'output_mutation_rate': 0.3}}\n",
      "{'h_params': {'budget': 25000, 'connection_temperature': 1, 'lambda': 10, 'mode': 'UTCGP-NUM-NOPRECOR', 'mutation_rate': 1.1, 'n_nodes': 20, 'output_mutation_rate': 0.3}}\n"
     ]
    },
    {
     "name": "stderr",
     "output_type": "stream",
     "text": [
      " 10%|██████▍                                                       | 68/654 [00:07<01:20,  7.24it/s]"
     ]
    },
    {
     "name": "stdout",
     "output_type": "stream",
     "text": [
      "{'h_params': {'budget': 25000, 'connection_temperature': 1, 'lambda': 10, 'mode': 'UTCGP-NUM-NOPRECOR', 'mutation_rate': 1.1, 'n_nodes': 20, 'output_mutation_rate': 0.3}}\n",
      "{'h_params': {'budget': 25000, 'connection_temperature': 1, 'lambda': 10, 'mode': 'UTCGP-NUM-NOPRECOR', 'mutation_rate': 1.1, 'n_nodes': 20, 'output_mutation_rate': 0.3}}\n",
      "{'h_params': {'budget': 25000, 'connection_temperature': 1, 'lambda': 10, 'mode': 'UTCGP-NUM-NOPRECOR', 'mutation_rate': 1.1, 'n_nodes': 20, 'output_mutation_rate': 0.3}}\n"
     ]
    },
    {
     "name": "stderr",
     "output_type": "stream",
     "text": [
      " 11%|███████                                                       | 75/654 [00:08<00:52, 11.09it/s]"
     ]
    },
    {
     "name": "stdout",
     "output_type": "stream",
     "text": [
      "{'h_params': {'budget': 25000, 'connection_temperature': 1, 'lambda': 10, 'mode': 'UTCGP-NUM-NOPRECOR', 'mutation_rate': 1.1, 'n_nodes': 20, 'output_mutation_rate': 0.3}}\n",
      "{'h_params': {'budget': 25000, 'connection_temperature': 1, 'lambda': 10, 'mode': 'UTCGP-NUM-NOPRECOR', 'mutation_rate': 1.1, 'n_nodes': 20, 'output_mutation_rate': 0.3}}\n",
      "{'h_params': {'budget': 25000, 'connection_temperature': 1, 'lambda': 10, 'mode': 'UTCGP-NUM-NOPRECOR', 'mutation_rate': 1.1, 'n_nodes': 20, 'output_mutation_rate': 0.3}}\n",
      "{'h_params': {'budget': 25000, 'connection_temperature': 1, 'lambda': 10, 'mode': 'UTCGP-NUM-NOPRECOR', 'mutation_rate': 1.1, 'n_nodes': 20, 'output_mutation_rate': 0.3}}\n",
      "{'h_params': {'budget': 25000, 'connection_temperature': 1, 'lambda': 10, 'mode': 'UTCGP-NUM-NOPRECOR', 'mutation_rate': 1.1, 'n_nodes': 20, 'output_mutation_rate': 0.3}}\n",
      "{'h_params': {'budget': 25000, 'connection_temperature': 1, 'lambda': 10, 'mode': 'UTCGP-NUM-NOPRECOR', 'mutation_rate': 1.1, 'n_nodes': 20, 'output_mutation_rate': 0.3}}\n"
     ]
    },
    {
     "name": "stderr",
     "output_type": "stream",
     "text": [
      " 12%|███████▎                                                      | 77/654 [00:08<01:00,  9.59it/s]"
     ]
    },
    {
     "name": "stdout",
     "output_type": "stream",
     "text": [
      "{'h_params': {'budget': 25000, 'connection_temperature': 1, 'lambda': 10, 'mode': 'UTCGP-NUM-NOPRECOR', 'mutation_rate': 1.1, 'n_nodes': 20, 'output_mutation_rate': 0.3}}\n",
      "{'h_params': {'budget': 25000, 'connection_temperature': 1, 'lambda': 10, 'mode': 'UTCGP-NUM-NOPRECOR', 'mutation_rate': 1.1, 'n_nodes': 20, 'output_mutation_rate': 0.3}}\n"
     ]
    },
    {
     "name": "stderr",
     "output_type": "stream",
     "text": [
      " 12%|███████▍                                                      | 79/654 [00:08<01:07,  8.50it/s]"
     ]
    },
    {
     "name": "stdout",
     "output_type": "stream",
     "text": [
      "{'h_params': {'budget': 25000, 'connection_temperature': 1, 'lambda': 10, 'mode': 'UTCGP-NUM-NOPRECOR', 'mutation_rate': 1.1, 'n_nodes': 20, 'output_mutation_rate': 0.3}}\n",
      "{'h_params': {'budget': 25000, 'connection_temperature': 1, 'lambda': 10, 'mode': 'UTCGP-NUM-NOPRECOR', 'mutation_rate': 1.1, 'n_nodes': 20, 'output_mutation_rate': 0.3}}\n",
      "{'h_params': {'budget': 25000, 'connection_temperature': 1, 'lambda': 10, 'mode': 'UTCGP-NUM-NOPRECOR', 'mutation_rate': 1.1, 'n_nodes': 20, 'output_mutation_rate': 0.3}}\n"
     ]
    },
    {
     "name": "stderr",
     "output_type": "stream",
     "text": [
      " 13%|███████▊                                                      | 82/654 [00:09<01:10,  8.08it/s]"
     ]
    },
    {
     "name": "stdout",
     "output_type": "stream",
     "text": [
      "{'h_params': {'budget': 25000, 'connection_temperature': 1, 'lambda': 10, 'mode': 'UTCGP-NUM-NOPRECOR', 'mutation_rate': 1.1, 'n_nodes': 20, 'output_mutation_rate': 0.3}}\n"
     ]
    },
    {
     "name": "stderr",
     "output_type": "stream",
     "text": [
      " 13%|████████▏                                                     | 87/654 [00:09<00:58,  9.69it/s]"
     ]
    },
    {
     "name": "stdout",
     "output_type": "stream",
     "text": [
      "{'h_params': {'budget': 25000, 'connection_temperature': 1, 'lambda': 10, 'mode': 'UTCGP-NUM-NOPRECOR', 'mutation_rate': 1.1, 'n_nodes': 20, 'output_mutation_rate': 0.3}}\n",
      "{'h_params': {'budget': 25000, 'connection_temperature': 1, 'lambda': 10, 'mode': 'UTCGP-NUM-NOPRECOR', 'mutation_rate': 1.1, 'n_nodes': 20, 'output_mutation_rate': 0.3}}\n",
      "{'h_params': {'budget': 25000, 'connection_temperature': 1, 'lambda': 10, 'mode': 'UTCGP-NUM-NOPRECOR', 'mutation_rate': 1.1, 'n_nodes': 20, 'output_mutation_rate': 0.3}}\n",
      "{'h_params': {'budget': 25000, 'connection_temperature': 1, 'lambda': 10, 'mode': 'UTCGP-NUM-NOPRECOR', 'mutation_rate': 1.1, 'n_nodes': 20, 'output_mutation_rate': 0.3}}\n",
      "{'h_params': {'budget': 25000, 'connection_temperature': 1, 'lambda': 10, 'mode': 'UTCGP-NUM-NOPRECOR', 'mutation_rate': 1.1, 'n_nodes': 20, 'output_mutation_rate': 0.3}}\n",
      "{'h_params': {'budget': 25000, 'connection_temperature': 1, 'lambda': 10, 'mode': 'UTCGP-NUM-NOPRECOR', 'mutation_rate': 1.1, 'n_nodes': 20, 'output_mutation_rate': 0.3}}\n",
      "{'h_params': {'budget': 25000, 'connection_temperature': 1, 'lambda': 10, 'mode': 'UTCGP-NUM-NOPRECOR', 'mutation_rate': 1.1, 'n_nodes': 20, 'output_mutation_rate': 0.3}}\n"
     ]
    },
    {
     "name": "stderr",
     "output_type": "stream",
     "text": [
      " 14%|████████▌                                                     | 90/654 [00:10<01:00,  9.35it/s]"
     ]
    },
    {
     "name": "stdout",
     "output_type": "stream",
     "text": [
      "{'h_params': {'budget': 25000, 'connection_temperature': 1, 'lambda': 10, 'mode': 'UTCGP-NUM-NOPRECOR', 'mutation_rate': 1.1, 'n_nodes': 20, 'output_mutation_rate': 0.3}}\n"
     ]
    },
    {
     "name": "stderr",
     "output_type": "stream",
     "text": [
      " 15%|█████████                                                     | 95/654 [00:10<00:51, 10.96it/s]"
     ]
    },
    {
     "name": "stdout",
     "output_type": "stream",
     "text": [
      "{'h_params': {'budget': 25000, 'connection_temperature': 1, 'lambda': 10, 'mode': 'UTCGP-NUM-NOPRECOR', 'mutation_rate': 1.1, 'n_nodes': 20, 'output_mutation_rate': 0.3}}\n",
      "{'h_params': {'budget': 25000, 'connection_temperature': 1, 'lambda': 10, 'mode': 'UTCGP-NUM-NOPRECOR', 'mutation_rate': 1.1, 'n_nodes': 20, 'output_mutation_rate': 0.3}}\n",
      "{'h_params': {'budget': 25000, 'connection_temperature': 1, 'lambda': 10, 'mode': 'UTCGP-NUM-NOPRECOR', 'mutation_rate': 1.1, 'n_nodes': 20, 'output_mutation_rate': 0.3}}\n",
      "{'h_params': {'budget': 25000, 'connection_temperature': 1, 'lambda': 10, 'mode': 'UTCGP-NUM-NOPRECOR', 'mutation_rate': 1.1, 'n_nodes': 20, 'output_mutation_rate': 0.3}}\n",
      "{'h_params': {'budget': 25000, 'connection_temperature': 1, 'lambda': 10, 'mode': 'UTCGP-NUM-NOPRECOR', 'mutation_rate': 1.1, 'n_nodes': 20, 'output_mutation_rate': 0.3}}\n"
     ]
    },
    {
     "name": "stderr",
     "output_type": "stream",
     "text": [
      " 15%|█████████▏                                                    | 97/654 [00:10<01:03,  8.83it/s]"
     ]
    },
    {
     "name": "stdout",
     "output_type": "stream",
     "text": [
      "{'h_params': {'budget': 25000, 'connection_temperature': 1, 'lambda': 10, 'mode': 'UTCGP-NUM-NOPRECOR', 'mutation_rate': 1.1, 'n_nodes': 20, 'output_mutation_rate': 0.3}}\n",
      "{'h_params': {'budget': 25000, 'connection_temperature': 1, 'lambda': 10, 'mode': 'UTCGP-NUM-NOPRECOR', 'mutation_rate': 1.1, 'n_nodes': 20, 'output_mutation_rate': 0.3}}\n",
      "{'h_params': {'budget': 25000, 'connection_temperature': 1, 'lambda': 10, 'mode': 'UTCGP-NUM-NOPRECOR', 'mutation_rate': 1.1, 'n_nodes': 20, 'output_mutation_rate': 0.3}}\n"
     ]
    },
    {
     "name": "stderr",
     "output_type": "stream",
     "text": [
      " 15%|█████████▍                                                    | 99/654 [00:11<01:17,  7.12it/s]"
     ]
    },
    {
     "name": "stdout",
     "output_type": "stream",
     "text": [
      "{'h_params': {'budget': 25000, 'connection_temperature': 1, 'lambda': 10, 'mode': 'UTCGP-NUM-NOPRECOR', 'mutation_rate': 1.1, 'n_nodes': 20, 'output_mutation_rate': 0.3}}\n",
      "{'h_params': {'budget': 25000, 'connection_temperature': 1, 'lambda': 10, 'mode': 'UTCGP-NUM-NOPRECOR', 'mutation_rate': 1.1, 'n_nodes': 20, 'output_mutation_rate': 0.3}}\n"
     ]
    },
    {
     "name": "stderr",
     "output_type": "stream",
     "text": [
      " 16%|█████████▋                                                   | 104/654 [00:11<00:58,  9.34it/s]"
     ]
    },
    {
     "name": "stdout",
     "output_type": "stream",
     "text": [
      "{'h_params': {'budget': 25000, 'connection_temperature': 1, 'lambda': 10, 'mode': 'UTCGP-NUM-NOPRECOR', 'mutation_rate': 1.1, 'n_nodes': 20, 'output_mutation_rate': 0.3}}\n",
      "{'h_params': {'budget': 25000, 'connection_temperature': 1, 'lambda': 10, 'mode': 'UTCGP-NUM-NOPRECOR', 'mutation_rate': 1.1, 'n_nodes': 20, 'output_mutation_rate': 0.3}}\n",
      "{'h_params': {'budget': 25000, 'connection_temperature': 1, 'lambda': 10, 'mode': 'UTCGP-NUM-NOPRECOR', 'mutation_rate': 1.1, 'n_nodes': 20, 'output_mutation_rate': 0.3}}\n",
      "{'h_params': {'budget': 25000, 'connection_temperature': 1, 'lambda': 10, 'mode': 'UTCGP-NUM-NOPRECOR', 'mutation_rate': 1.1, 'n_nodes': 20, 'output_mutation_rate': 0.3}}\n"
     ]
    },
    {
     "name": "stderr",
     "output_type": "stream",
     "text": [
      " 17%|██████████▎                                                  | 110/654 [00:12<00:44, 12.29it/s]"
     ]
    },
    {
     "name": "stdout",
     "output_type": "stream",
     "text": [
      "{'h_params': {'budget': 25000, 'connection_temperature': 1, 'lambda': 10, 'mode': 'UTCGP-NUM-NOPRECOR', 'mutation_rate': 1.1, 'n_nodes': 20, 'output_mutation_rate': 0.3}}\n",
      "{'h_params': {'budget': 25000, 'connection_temperature': 1, 'lambda': 10, 'mode': 'UTCGP-NUM-NOPRECOR', 'mutation_rate': 1.1, 'n_nodes': 20, 'output_mutation_rate': 0.3}}\n",
      "{'h_params': {'budget': 25000, 'connection_temperature': 1, 'lambda': 10, 'mode': 'UTCGP-NUM-NOPRECOR', 'mutation_rate': 1.1, 'n_nodes': 20, 'output_mutation_rate': 0.3}}\n",
      "{'h_params': {'budget': 25000, 'connection_temperature': 1, 'lambda': 10, 'mode': 'UTCGP-NUM-NOPRECOR', 'mutation_rate': 1.1, 'n_nodes': 20, 'output_mutation_rate': 0.3}}\n",
      "{'h_params': {'budget': 25000, 'connection_temperature': 1, 'lambda': 10, 'mode': 'UTCGP-NUM-NOPRECOR', 'mutation_rate': 1.1, 'n_nodes': 20, 'output_mutation_rate': 0.3}}\n",
      "{'h_params': {'budget': 25000, 'connection_temperature': 1, 'lambda': 10, 'mode': 'UTCGP-NUM-NOPRECOR', 'mutation_rate': 1.1, 'n_nodes': 20, 'output_mutation_rate': 0.3}}\n",
      "{'h_params': {'budget': 25000, 'connection_temperature': 1, 'lambda': 10, 'mode': 'UTCGP-NUM-NOPRECOR', 'mutation_rate': 1.1, 'n_nodes': 20, 'output_mutation_rate': 0.3}}\n"
     ]
    },
    {
     "name": "stderr",
     "output_type": "stream",
     "text": [
      " 17%|██████████▍                                                  | 112/654 [00:12<01:09,  7.81it/s]"
     ]
    },
    {
     "name": "stdout",
     "output_type": "stream",
     "text": [
      "{'h_params': {'budget': 25000, 'connection_temperature': 1, 'lambda': 10, 'mode': 'UTCGP-NUM-NOPRECOR', 'mutation_rate': 1.1, 'n_nodes': 20, 'output_mutation_rate': 0.3}}\n",
      "{'h_params': {'budget': 25000, 'connection_temperature': 1, 'lambda': 10, 'mode': 'UTCGP-NUM-NOPRECOR', 'mutation_rate': 1.1, 'n_nodes': 20, 'output_mutation_rate': 0.3}}\n",
      "{'h_params': {'budget': 25000, 'connection_temperature': 1, 'lambda': 10, 'mode': 'UTCGP-NUM-NOPRECOR', 'mutation_rate': 1.1, 'n_nodes': 20, 'output_mutation_rate': 0.3}}\n",
      "{'h_params': {'budget': 25000, 'connection_temperature': 1, 'lambda': 10, 'mode': 'UTCGP-NUM-NOPRECOR', 'mutation_rate': 1.1, 'n_nodes': 20, 'output_mutation_rate': 0.3}}\n",
      "{'h_params': {'budget': 25000, 'connection_temperature': 1, 'lambda': 10, 'mode': 'UTCGP-NUM-NOPRECOR', 'mutation_rate': 1.1, 'n_nodes': 20, 'output_mutation_rate': 0.3}}\n"
     ]
    },
    {
     "name": "stderr",
     "output_type": "stream",
     "text": [
      " 18%|██████████▉                                                  | 117/654 [00:13<00:54,  9.84it/s]"
     ]
    },
    {
     "name": "stdout",
     "output_type": "stream",
     "text": [
      "{'h_params': {'budget': 25000, 'connection_temperature': 1, 'lambda': 10, 'mode': 'UTCGP-NUM-NOPRECOR', 'mutation_rate': 1.1, 'n_nodes': 20, 'output_mutation_rate': 0.3}}\n",
      "{'h_params': {'budget': 25000, 'connection_temperature': 1, 'lambda': 10, 'mode': 'UTCGP-NUM-NOPRECOR', 'mutation_rate': 1.1, 'n_nodes': 20, 'output_mutation_rate': 0.3}}\n",
      "{'h_params': {'budget': 25000, 'connection_temperature': 1, 'lambda': 10, 'mode': 'UTCGP-NUM-NOPRECOR', 'mutation_rate': 1.1, 'n_nodes': 20, 'output_mutation_rate': 0.3}}\n",
      "{'h_params': {'budget': 25000, 'connection_temperature': 1, 'lambda': 10, 'mode': 'UTCGP-NUM-NOPRECOR', 'mutation_rate': 1.1, 'n_nodes': 20, 'output_mutation_rate': 0.3}}\n",
      "{'h_params': {'budget': 25000, 'connection_temperature': 1, 'lambda': 10, 'mode': 'UTCGP-NUM-NOPRECOR', 'mutation_rate': 1.1, 'n_nodes': 20, 'output_mutation_rate': 0.3}}\n"
     ]
    },
    {
     "name": "stderr",
     "output_type": "stream",
     "text": [
      " 19%|███████████▍                                                 | 122/654 [00:13<00:51, 10.33it/s]"
     ]
    },
    {
     "name": "stdout",
     "output_type": "stream",
     "text": [
      "{'h_params': {'budget': 25000, 'connection_temperature': 1, 'lambda': 10, 'mode': 'UTCGP-NUM-NOPRECOR', 'mutation_rate': 1.1, 'n_nodes': 20, 'output_mutation_rate': 0.3}}\n",
      "{'h_params': {'budget': 25000, 'connection_temperature': 1, 'lambda': 10, 'mode': 'UTCGP-NUM-NOPRECOR', 'mutation_rate': 1.1, 'n_nodes': 20, 'output_mutation_rate': 0.3}}\n"
     ]
    },
    {
     "name": "stderr",
     "output_type": "stream",
     "text": [
      " 19%|███████████▌                                                 | 124/654 [00:13<00:57,  9.23it/s]"
     ]
    },
    {
     "name": "stdout",
     "output_type": "stream",
     "text": [
      "{'h_params': {'budget': 25000, 'connection_temperature': 1, 'lambda': 10, 'mode': 'UTCGP-NUM-NOPRECOR', 'mutation_rate': 1.1, 'n_nodes': 20, 'output_mutation_rate': 0.3}}\n",
      "{'h_params': {'budget': 25000, 'connection_temperature': 1, 'lambda': 10, 'mode': 'UTCGP-NUM-NOPRECOR', 'mutation_rate': 1.1, 'n_nodes': 20, 'output_mutation_rate': 0.3}}\n"
     ]
    },
    {
     "name": "stderr",
     "output_type": "stream",
     "text": [
      " 19%|███████████▊                                                 | 126/654 [00:14<01:02,  8.51it/s]"
     ]
    },
    {
     "name": "stdout",
     "output_type": "stream",
     "text": [
      "{'h_params': {'budget': 25000, 'connection_temperature': 1, 'lambda': 10, 'mode': 'UTCGP-NUM-NOPRECOR', 'mutation_rate': 1.1, 'n_nodes': 20, 'output_mutation_rate': 0.3}}\n",
      "{'h_params': {'budget': 25000, 'connection_temperature': 1, 'lambda': 10, 'mode': 'UTCGP-NUM-NOPRECOR', 'mutation_rate': 1.1, 'n_nodes': 20, 'output_mutation_rate': 0.3}}\n"
     ]
    },
    {
     "name": "stderr",
     "output_type": "stream",
     "text": [
      " 20%|███████████▉                                                 | 128/654 [00:14<01:04,  8.10it/s]"
     ]
    },
    {
     "name": "stdout",
     "output_type": "stream",
     "text": [
      "{'h_params': {'budget': 25000, 'connection_temperature': 1, 'lambda': 10, 'mode': 'UTCGP-NUM-NOPRECOR', 'mutation_rate': 1.1, 'n_nodes': 20, 'output_mutation_rate': 0.3}}\n",
      "{'h_params': {'budget': 25000, 'connection_temperature': 1, 'lambda': 10, 'mode': 'UTCGP-NUM-NOPRECOR', 'mutation_rate': 1.1, 'n_nodes': 20, 'output_mutation_rate': 0.3}}\n",
      "{'h_params': {'budget': 25000, 'connection_temperature': 1, 'lambda': 10, 'mode': 'MTCGP-NUM', 'mutation_rate': 1.1, 'n_nodes': 40, 'output_mutation_rate': 0.3}}\n",
      "{'h_params': {'budget': 25000, 'connection_temperature': 1, 'lambda': 10, 'mode': 'MTCGP-NUM', 'mutation_rate': 1.1, 'n_nodes': 40, 'output_mutation_rate': 0.3}}\n",
      "{'h_params': {'budget': 25000, 'connection_temperature': 1, 'lambda': 10, 'mode': 'MTCGP-NUM', 'mutation_rate': 1.1, 'n_nodes': 40, 'output_mutation_rate': 0.3}}\n"
     ]
    },
    {
     "name": "stderr",
     "output_type": "stream",
     "text": [
      " 21%|████████████▊                                                | 137/654 [00:14<00:37, 13.95it/s]"
     ]
    },
    {
     "name": "stdout",
     "output_type": "stream",
     "text": [
      "{'h_params': {'budget': 25000, 'connection_temperature': 1, 'lambda': 10, 'mode': 'MTCGP-NUM', 'mutation_rate': 1.1, 'n_nodes': 40, 'output_mutation_rate': 0.3}}\n",
      "{'h_params': {'budget': 25000, 'connection_temperature': 1, 'lambda': 10, 'mode': 'MTCGP-NUM', 'mutation_rate': 1.1, 'n_nodes': 40, 'output_mutation_rate': 0.3}}\n",
      "{'h_params': {'budget': 25000, 'connection_temperature': 1, 'lambda': 10, 'mode': 'MTCGP-NUM', 'mutation_rate': 1.1, 'n_nodes': 40, 'output_mutation_rate': 0.3}}\n",
      "{'h_params': {'budget': 25000, 'connection_temperature': 1, 'lambda': 10, 'mode': 'MTCGP-NUM', 'mutation_rate': 1.1, 'n_nodes': 40, 'output_mutation_rate': 0.3}}\n",
      "{'h_params': {'budget': 25000, 'connection_temperature': 1, 'lambda': 10, 'mode': 'MTCGP-NUM', 'mutation_rate': 1.1, 'n_nodes': 40, 'output_mutation_rate': 0.3}}\n",
      "{'h_params': {'budget': 25000, 'connection_temperature': 1, 'lambda': 10, 'mode': 'MTCGP-NUM', 'mutation_rate': 1.1, 'n_nodes': 40, 'output_mutation_rate': 0.3}}\n",
      "{'h_params': {'budget': 25000, 'connection_temperature': 1, 'lambda': 10, 'mode': 'MTCGP-NUM', 'mutation_rate': 1.1, 'n_nodes': 40, 'output_mutation_rate': 0.3}}\n"
     ]
    },
    {
     "name": "stderr",
     "output_type": "stream",
     "text": [
      " 22%|█████████████▎                                               | 143/654 [00:15<00:35, 14.37it/s]"
     ]
    },
    {
     "name": "stdout",
     "output_type": "stream",
     "text": [
      "{'h_params': {'budget': 25000, 'connection_temperature': 1, 'lambda': 10, 'mode': 'MTCGP-NUM', 'mutation_rate': 1.1, 'n_nodes': 40, 'output_mutation_rate': 0.3}}\n",
      "{'h_params': {'budget': 25000, 'connection_temperature': 1, 'lambda': 10, 'mode': 'MTCGP-NUM', 'mutation_rate': 1.1, 'n_nodes': 40, 'output_mutation_rate': 0.3}}\n",
      "{'h_params': {'budget': 25000, 'connection_temperature': 1, 'lambda': 10, 'mode': 'MTCGP-NUM', 'mutation_rate': 1.1, 'n_nodes': 40, 'output_mutation_rate': 0.3}}\n",
      "{'h_params': {'budget': 25000, 'connection_temperature': 1, 'lambda': 10, 'mode': 'MTCGP-NUM', 'mutation_rate': 1.1, 'n_nodes': 40, 'output_mutation_rate': 0.3}}\n",
      "{'h_params': {'budget': 25000, 'connection_temperature': 1, 'lambda': 10, 'mode': 'MTCGP-NUM', 'mutation_rate': 1.1, 'n_nodes': 40, 'output_mutation_rate': 0.3}}\n",
      "{'h_params': {'budget': 25000, 'connection_temperature': 1, 'lambda': 10, 'mode': 'MTCGP-NUM', 'mutation_rate': 1.1, 'n_nodes': 40, 'output_mutation_rate': 0.3}}\n"
     ]
    },
    {
     "name": "stderr",
     "output_type": "stream",
     "text": [
      " 23%|█████████████▉                                               | 150/654 [00:15<00:24, 20.18it/s]"
     ]
    },
    {
     "name": "stdout",
     "output_type": "stream",
     "text": [
      "{'h_params': {'budget': 25000, 'connection_temperature': 1, 'lambda': 10, 'mode': 'MTCGP-NUM', 'mutation_rate': 1.1, 'n_nodes': 40, 'output_mutation_rate': 0.3}}\n",
      "{'h_params': {'budget': 25000, 'connection_temperature': 1, 'lambda': 10, 'mode': 'MTCGP-NUM', 'mutation_rate': 1.1, 'n_nodes': 40, 'output_mutation_rate': 0.3}}\n",
      "{'h_params': {'budget': 25000, 'connection_temperature': 1, 'lambda': 10, 'mode': 'MTCGP-NUM', 'mutation_rate': 1.1, 'n_nodes': 40, 'output_mutation_rate': 0.3}}\n",
      "{'h_params': {'budget': 25000, 'connection_temperature': 1, 'lambda': 10, 'mode': 'MTCGP-NUM', 'mutation_rate': 1.1, 'n_nodes': 40, 'output_mutation_rate': 0.3}}\n",
      "{'h_params': {'budget': 25000, 'connection_temperature': 1, 'lambda': 10, 'mode': 'MTCGP-NUM', 'mutation_rate': 1.1, 'n_nodes': 40, 'output_mutation_rate': 0.3}}\n",
      "{'h_params': {'budget': 25000, 'connection_temperature': 1, 'lambda': 10, 'mode': 'MTCGP-NUM', 'mutation_rate': 1.1, 'n_nodes': 40, 'output_mutation_rate': 0.3}}\n",
      "{'h_params': {'budget': 25000, 'connection_temperature': 1, 'lambda': 10, 'mode': 'MTCGP-NUM', 'mutation_rate': 1.1, 'n_nodes': 40, 'output_mutation_rate': 0.3}}\n"
     ]
    },
    {
     "name": "stderr",
     "output_type": "stream",
     "text": [
      " 23%|██████████████▎                                              | 153/654 [00:15<00:32, 15.45it/s]"
     ]
    },
    {
     "name": "stdout",
     "output_type": "stream",
     "text": [
      "{'h_params': {'budget': 25000, 'connection_temperature': 1, 'lambda': 10, 'mode': 'MTCGP-NUM', 'mutation_rate': 1.1, 'n_nodes': 40, 'output_mutation_rate': 0.3}}\n"
     ]
    },
    {
     "name": "stderr",
     "output_type": "stream",
     "text": [
      " 25%|███████████████                                              | 162/654 [00:16<00:26, 18.88it/s]"
     ]
    },
    {
     "name": "stdout",
     "output_type": "stream",
     "text": [
      "{'h_params': {'budget': 25000, 'connection_temperature': 1, 'lambda': 10, 'mode': 'MTCGP-NUM', 'mutation_rate': 1.1, 'n_nodes': 40, 'output_mutation_rate': 0.3}}\n",
      "{'h_params': {'budget': 25000, 'connection_temperature': 1, 'lambda': 10, 'mode': 'MTCGP-NUM', 'mutation_rate': 1.1, 'n_nodes': 40, 'output_mutation_rate': 0.3}}\n",
      "{'h_params': {'budget': 25000, 'connection_temperature': 1, 'lambda': 10, 'mode': 'UTCGP-NUM', 'mutation_rate': 1.1, 'n_nodes': 20, 'output_mutation_rate': 0.3}}\n",
      "{'h_params': {'budget': 25000, 'connection_temperature': 1, 'lambda': 10, 'mode': 'MTCGP-NUM', 'mutation_rate': 1.1, 'n_nodes': 40, 'output_mutation_rate': 0.3}}\n",
      "{'h_params': {'budget': 25000, 'connection_temperature': 1, 'lambda': 10, 'mode': 'UTCGP-NUM', 'mutation_rate': 1.1, 'n_nodes': 20, 'output_mutation_rate': 0.3}}\n",
      "{'h_params': {'budget': 25000, 'connection_temperature': 1, 'lambda': 10, 'mode': 'MTCGP-NUM', 'mutation_rate': 1.1, 'n_nodes': 40, 'output_mutation_rate': 0.3}}\n",
      "{'h_params': {'budget': 25000, 'connection_temperature': 1, 'lambda': 10, 'mode': 'UTCGP-NUM', 'mutation_rate': 1.1, 'n_nodes': 20, 'output_mutation_rate': 0.3}}\n",
      "{'h_params': {'budget': 25000, 'connection_temperature': 1, 'lambda': 10, 'mode': 'UTCGP-NUM', 'mutation_rate': 1.1, 'n_nodes': 20, 'output_mutation_rate': 0.3}}\n",
      "{'h_params': {'budget': 25000, 'connection_temperature': 1, 'lambda': 10, 'mode': 'MTCGP-NUM', 'mutation_rate': 1.1, 'n_nodes': 40, 'output_mutation_rate': 0.3}}\n",
      "{'h_params': {'budget': 25000, 'connection_temperature': 1, 'lambda': 10, 'mode': 'MTCGP-NUM', 'mutation_rate': 1.1, 'n_nodes': 40, 'output_mutation_rate': 0.3}}\n",
      "{'h_params': {'budget': 25000, 'connection_temperature': 1, 'lambda': 10, 'mode': 'UTCGP-NUM', 'mutation_rate': 1.1, 'n_nodes': 20, 'output_mutation_rate': 0.3}}\n"
     ]
    },
    {
     "name": "stderr",
     "output_type": "stream",
     "text": [
      " 25%|███████████████▍                                             | 165/654 [00:17<00:44, 10.88it/s]"
     ]
    },
    {
     "name": "stdout",
     "output_type": "stream",
     "text": [
      "{'h_params': {'budget': 25000, 'connection_temperature': 1, 'lambda': 10, 'mode': 'UTCGP-NUM', 'mutation_rate': 1.1, 'n_nodes': 20, 'output_mutation_rate': 0.3}}\n",
      "{'h_params': {'budget': 25000, 'connection_temperature': 1, 'lambda': 10, 'mode': 'UTCGP-NUM', 'mutation_rate': 1.1, 'n_nodes': 20, 'output_mutation_rate': 0.3}}\n",
      "{'h_params': {'budget': 25000, 'connection_temperature': 1, 'lambda': 10, 'mode': 'MTCGP-NUM', 'mutation_rate': 1.1, 'n_nodes': 40, 'output_mutation_rate': 0.3}}\n"
     ]
    },
    {
     "name": "stderr",
     "output_type": "stream",
     "text": [
      " 26%|███████████████▋                                             | 168/654 [00:17<00:48, 10.05it/s]"
     ]
    },
    {
     "name": "stdout",
     "output_type": "stream",
     "text": [
      "{'h_params': {'budget': 25000, 'connection_temperature': 1, 'lambda': 10, 'mode': 'UTCGP-NUM', 'mutation_rate': 1.1, 'n_nodes': 20, 'output_mutation_rate': 0.3}}\n",
      "{'h_params': {'budget': 25000, 'connection_temperature': 1, 'lambda': 10, 'mode': 'MTCGP-NUM', 'mutation_rate': 1.1, 'n_nodes': 40, 'output_mutation_rate': 0.3}}\n",
      "{'h_params': {'budget': 25000, 'connection_temperature': 1, 'lambda': 10, 'mode': 'UTCGP-NUM', 'mutation_rate': 1.1, 'n_nodes': 20, 'output_mutation_rate': 0.3}}\n",
      "{'h_params': {'budget': 25000, 'connection_temperature': 1, 'lambda': 10, 'mode': 'UTCGP-NUM', 'mutation_rate': 1.1, 'n_nodes': 20, 'output_mutation_rate': 0.3}}\n",
      "{'h_params': {'budget': 25000, 'connection_temperature': 1, 'lambda': 10, 'mode': 'MTCGP-NUM', 'mutation_rate': 1.1, 'n_nodes': 40, 'output_mutation_rate': 0.3}}\n",
      "{'h_params': {'budget': 25000, 'connection_temperature': 1, 'lambda': 10, 'mode': 'MTCGP-NUM', 'mutation_rate': 1.1, 'n_nodes': 40, 'output_mutation_rate': 0.3}}\n"
     ]
    },
    {
     "name": "stderr",
     "output_type": "stream",
     "text": [
      " 27%|████████████████▏                                            | 174/654 [00:17<00:39, 12.08it/s]"
     ]
    },
    {
     "name": "stdout",
     "output_type": "stream",
     "text": [
      "{'h_params': {'budget': 25000, 'connection_temperature': 1, 'lambda': 10, 'mode': 'MTCGP-NUM', 'mutation_rate': 1.1, 'n_nodes': 40, 'output_mutation_rate': 0.3}}\n",
      "{'h_params': {'budget': 25000, 'connection_temperature': 1, 'lambda': 10, 'mode': 'MTCGP-NUM', 'mutation_rate': 1.1, 'n_nodes': 40, 'output_mutation_rate': 0.3}}\n",
      "{'h_params': {'budget': 25000, 'connection_temperature': 1, 'lambda': 10, 'mode': 'MTCGP-NUM', 'mutation_rate': 1.1, 'n_nodes': 40, 'output_mutation_rate': 0.3}}\n",
      "{'h_params': {'budget': 25000, 'connection_temperature': 1, 'lambda': 10, 'mode': 'UTCGP-NUM', 'mutation_rate': 1.1, 'n_nodes': 20, 'output_mutation_rate': 0.3}}\n"
     ]
    },
    {
     "name": "stderr",
     "output_type": "stream",
     "text": [
      " 27%|████████████████▌                                            | 178/654 [00:18<00:41, 11.47it/s]"
     ]
    },
    {
     "name": "stdout",
     "output_type": "stream",
     "text": [
      "{'h_params': {'budget': 25000, 'connection_temperature': 1, 'lambda': 10, 'mode': 'UTCGP-NUM', 'mutation_rate': 1.1, 'n_nodes': 20, 'output_mutation_rate': 0.3}}\n",
      "{'h_params': {'budget': 25000, 'connection_temperature': 1, 'lambda': 10, 'mode': 'MTCGP-NUM', 'mutation_rate': 1.1, 'n_nodes': 40, 'output_mutation_rate': 0.3}}\n"
     ]
    },
    {
     "name": "stderr",
     "output_type": "stream",
     "text": [
      " 28%|████████████████▉                                            | 182/654 [00:18<00:42, 11.04it/s]"
     ]
    },
    {
     "name": "stdout",
     "output_type": "stream",
     "text": [
      "{'h_params': {'budget': 25000, 'connection_temperature': 1, 'lambda': 10, 'mode': 'MTCGP-NUM', 'mutation_rate': 1.1, 'n_nodes': 40, 'output_mutation_rate': 0.3}}\n",
      "{'h_params': {'budget': 25000, 'connection_temperature': 1, 'lambda': 10, 'mode': 'MTCGP-NUM', 'mutation_rate': 1.1, 'n_nodes': 40, 'output_mutation_rate': 0.3}}\n",
      "{'h_params': {'budget': 25000, 'connection_temperature': 1, 'lambda': 10, 'mode': 'UTCGP-NUM', 'mutation_rate': 1.1, 'n_nodes': 20, 'output_mutation_rate': 0.3}}\n"
     ]
    },
    {
     "name": "stderr",
     "output_type": "stream",
     "text": [
      " 28%|█████████████████▏                                           | 184/654 [00:18<00:53,  8.81it/s]"
     ]
    },
    {
     "name": "stdout",
     "output_type": "stream",
     "text": [
      "{'h_params': {'budget': 25000, 'connection_temperature': 1, 'lambda': 10, 'mode': 'MTCGP-NUM', 'mutation_rate': 1.1, 'n_nodes': 40, 'output_mutation_rate': 0.3}}\n",
      "{'h_params': {'budget': 25000, 'connection_temperature': 1, 'lambda': 10, 'mode': 'MTCGP-NUM', 'mutation_rate': 1.1, 'n_nodes': 40, 'output_mutation_rate': 0.3}}\n",
      "{'h_params': {'budget': 25000, 'connection_temperature': 1, 'lambda': 10, 'mode': 'UTCGP-NUM', 'mutation_rate': 1.1, 'n_nodes': 20, 'output_mutation_rate': 0.3}}\n"
     ]
    },
    {
     "name": "stderr",
     "output_type": "stream",
     "text": [
      " 29%|█████████████████▉                                           | 192/654 [00:19<00:41, 11.24it/s]"
     ]
    },
    {
     "name": "stdout",
     "output_type": "stream",
     "text": [
      "{'h_params': {'budget': 25000, 'connection_temperature': 1, 'lambda': 10, 'mode': 'MTCGP-NUM', 'mutation_rate': 1.1, 'n_nodes': 40, 'output_mutation_rate': 0.3}}\n",
      "{'h_params': {'budget': 25000, 'connection_temperature': 1, 'lambda': 10, 'mode': 'UTCGP-NUM', 'mutation_rate': 1.1, 'n_nodes': 20, 'output_mutation_rate': 0.3}}\n",
      "{'h_params': {'budget': 25000, 'connection_temperature': 1, 'lambda': 10, 'mode': 'MTCGP-NUM', 'mutation_rate': 1.1, 'n_nodes': 40, 'output_mutation_rate': 0.3}}\n",
      "{'h_params': {'budget': 25000, 'connection_temperature': 1, 'lambda': 10, 'mode': 'UTCGP-NUM', 'mutation_rate': 1.1, 'n_nodes': 20, 'output_mutation_rate': 0.3}}\n",
      "{'h_params': {'budget': 25000, 'connection_temperature': 1, 'lambda': 10, 'mode': 'MTCGP-NUM', 'mutation_rate': 1.1, 'n_nodes': 40, 'output_mutation_rate': 0.3}}\n",
      "{'h_params': {'budget': 25000, 'connection_temperature': 1, 'lambda': 10, 'mode': 'UTCGP-NUM', 'mutation_rate': 1.1, 'n_nodes': 20, 'output_mutation_rate': 0.3}}\n",
      "{'h_params': {'budget': 25000, 'connection_temperature': 1, 'lambda': 10, 'mode': 'UTCGP-NUM', 'mutation_rate': 1.1, 'n_nodes': 20, 'output_mutation_rate': 0.3}}\n",
      "{'h_params': {'budget': 25000, 'connection_temperature': 1, 'lambda': 10, 'mode': 'MTCGP-NUM', 'mutation_rate': 1.1, 'n_nodes': 40, 'output_mutation_rate': 0.3}}\n",
      "{'h_params': {'budget': 25000, 'connection_temperature': 1, 'lambda': 10, 'mode': 'MTCGP-NUM', 'mutation_rate': 1.1, 'n_nodes': 40, 'output_mutation_rate': 0.3}}\n"
     ]
    },
    {
     "name": "stderr",
     "output_type": "stream",
     "text": [
      " 30%|██████████████████▏                                          | 195/654 [00:19<00:34, 13.16it/s]"
     ]
    },
    {
     "name": "stdout",
     "output_type": "stream",
     "text": [
      "{'h_params': {'budget': 25000, 'connection_temperature': 1, 'lambda': 10, 'mode': 'MTCGP-NUM', 'mutation_rate': 1.1, 'n_nodes': 40, 'output_mutation_rate': 0.3}}\n",
      "{'h_params': {'budget': 25000, 'connection_temperature': 1, 'lambda': 10, 'mode': 'MTCGP-NUM', 'mutation_rate': 1.1, 'n_nodes': 40, 'output_mutation_rate': 0.3}}\n",
      "{'h_params': {'budget': 25000, 'connection_temperature': 1, 'lambda': 10, 'mode': 'UTCGP-NUM', 'mutation_rate': 1.1, 'n_nodes': 20, 'output_mutation_rate': 0.3}}\n"
     ]
    },
    {
     "name": "stderr",
     "output_type": "stream",
     "text": [
      " 30%|██████████████████▍                                          | 198/654 [00:20<00:41, 11.11it/s]"
     ]
    },
    {
     "name": "stdout",
     "output_type": "stream",
     "text": [
      "{'h_params': {'budget': 25000, 'connection_temperature': 1, 'lambda': 10, 'mode': 'UTCGP-NUM', 'mutation_rate': 1.1, 'n_nodes': 20, 'output_mutation_rate': 0.3}}\n",
      "{'h_params': {'budget': 25000, 'connection_temperature': 1, 'lambda': 10, 'mode': 'MTCGP-NUM', 'mutation_rate': 1.1, 'n_nodes': 40, 'output_mutation_rate': 0.3}}\n",
      "{'h_params': {'budget': 25000, 'connection_temperature': 1, 'lambda': 10, 'mode': 'MTCGP-NUM', 'mutation_rate': 1.1, 'n_nodes': 40, 'output_mutation_rate': 0.3}}\n",
      "{'h_params': {'budget': 25000, 'connection_temperature': 1, 'lambda': 10, 'mode': 'MTCGP-NUM', 'mutation_rate': 1.1, 'n_nodes': 40, 'output_mutation_rate': 0.3}}\n"
     ]
    },
    {
     "name": "stderr",
     "output_type": "stream",
     "text": [
      " 31%|███████████████████                                          | 205/654 [00:20<00:34, 13.08it/s]"
     ]
    },
    {
     "name": "stdout",
     "output_type": "stream",
     "text": [
      "{'h_params': {'budget': 25000, 'connection_temperature': 1, 'lambda': 10, 'mode': 'MTCGP-NUM', 'mutation_rate': 1.1, 'n_nodes': 40, 'output_mutation_rate': 0.3}}\n",
      "{'h_params': {'budget': 25000, 'connection_temperature': 1, 'lambda': 10, 'mode': 'MTCGP-NUM', 'mutation_rate': 1.1, 'n_nodes': 40, 'output_mutation_rate': 0.3}}\n",
      "{'h_params': {'budget': 25000, 'connection_temperature': 1, 'lambda': 10, 'mode': 'MTCGP-NUM', 'mutation_rate': 1.1, 'n_nodes': 40, 'output_mutation_rate': 0.3}}\n",
      "{'h_params': {'budget': 25000, 'connection_temperature': 1, 'lambda': 10, 'mode': 'UTCGP-NUM', 'mutation_rate': 1.1, 'n_nodes': 20, 'output_mutation_rate': 0.3}}\n"
     ]
    },
    {
     "name": "stderr",
     "output_type": "stream",
     "text": [
      " 32%|███████████████████▋                                         | 211/654 [00:21<00:31, 13.98it/s]"
     ]
    },
    {
     "name": "stdout",
     "output_type": "stream",
     "text": [
      "{'h_params': {'budget': 25000, 'connection_temperature': 1, 'lambda': 10, 'mode': 'UTCGP-NUM', 'mutation_rate': 1.1, 'n_nodes': 20, 'output_mutation_rate': 0.3}}\n",
      "{'h_params': {'budget': 25000, 'connection_temperature': 1, 'lambda': 10, 'mode': 'UTCGP-NUM', 'mutation_rate': 1.1, 'n_nodes': 20, 'output_mutation_rate': 0.3}}\n",
      "{'h_params': {'budget': 25000, 'connection_temperature': 1, 'lambda': 10, 'mode': 'UTCGP-NUM', 'mutation_rate': 1.1, 'n_nodes': 20, 'output_mutation_rate': 0.3}}\n",
      "{'h_params': {'budget': 25000, 'connection_temperature': 1, 'lambda': 10, 'mode': 'UTCGP-NUM', 'mutation_rate': 1.1, 'n_nodes': 20, 'output_mutation_rate': 0.3}}\n",
      "{'h_params': {'budget': 25000, 'connection_temperature': 1, 'lambda': 10, 'mode': 'MTCGP-NUM', 'mutation_rate': 1.1, 'n_nodes': 40, 'output_mutation_rate': 0.3}}\n",
      "{'h_params': {'budget': 25000, 'connection_temperature': 1, 'lambda': 10, 'mode': 'UTCGP-NUM', 'mutation_rate': 1.1, 'n_nodes': 20, 'output_mutation_rate': 0.3}}\n",
      "{'h_params': {'budget': 25000, 'connection_temperature': 1, 'lambda': 10, 'mode': 'MTCGP-NUM', 'mutation_rate': 1.1, 'n_nodes': 40, 'output_mutation_rate': 0.3}}\n"
     ]
    },
    {
     "name": "stderr",
     "output_type": "stream",
     "text": [
      " 33%|████████████████████▏                                        | 216/654 [00:21<00:23, 18.44it/s]"
     ]
    },
    {
     "name": "stdout",
     "output_type": "stream",
     "text": [
      "{'h_params': {'budget': 25000, 'connection_temperature': 1, 'lambda': 10, 'mode': 'UTCGP-NUM', 'mutation_rate': 1.1, 'n_nodes': 20, 'output_mutation_rate': 0.3}}\n",
      "{'h_params': {'budget': 25000, 'connection_temperature': 1, 'lambda': 10, 'mode': 'MTCGP-NUM', 'mutation_rate': 1.1, 'n_nodes': 40, 'output_mutation_rate': 0.3}}\n",
      "{'h_params': {'budget': 25000, 'connection_temperature': 1, 'lambda': 10, 'mode': 'MTCGP-NUM', 'mutation_rate': 1.1, 'n_nodes': 40, 'output_mutation_rate': 0.3}}\n",
      "{'h_params': {'budget': 25000, 'connection_temperature': 1, 'lambda': 10, 'mode': 'MTCGP-NUM', 'mutation_rate': 1.1, 'n_nodes': 40, 'output_mutation_rate': 0.3}}\n",
      "{'h_params': {'budget': 25000, 'connection_temperature': 1, 'lambda': 10, 'mode': 'UTCGP-NUM', 'mutation_rate': 1.1, 'n_nodes': 20, 'output_mutation_rate': 0.3}}\n"
     ]
    },
    {
     "name": "stderr",
     "output_type": "stream",
     "text": [
      " 33%|████████████████████▍                                        | 219/654 [00:21<00:30, 14.11it/s]"
     ]
    },
    {
     "name": "stdout",
     "output_type": "stream",
     "text": [
      "{'h_params': {'budget': 25000, 'connection_temperature': 1, 'lambda': 10, 'mode': 'UTCGP-NUM', 'mutation_rate': 1.1, 'n_nodes': 20, 'output_mutation_rate': 0.3}}\n",
      "{'h_params': {'budget': 25000, 'connection_temperature': 1, 'lambda': 10, 'mode': 'MTCGP-NUM', 'mutation_rate': 1.1, 'n_nodes': 40, 'output_mutation_rate': 0.3}}\n"
     ]
    },
    {
     "name": "stderr",
     "output_type": "stream",
     "text": [
      " 34%|████████████████████▌                                        | 221/654 [00:21<00:38, 11.29it/s]"
     ]
    },
    {
     "name": "stdout",
     "output_type": "stream",
     "text": [
      "{'h_params': {'budget': 25000, 'connection_temperature': 1, 'lambda': 10, 'mode': 'MTCGP-NUM', 'mutation_rate': 1.1, 'n_nodes': 40, 'output_mutation_rate': 0.3}}\n",
      "{'h_params': {'budget': 25000, 'connection_temperature': 1, 'lambda': 10, 'mode': 'MTCGP-NUM', 'mutation_rate': 1.1, 'n_nodes': 40, 'output_mutation_rate': 0.3}}\n",
      "{'h_params': {'budget': 25000, 'connection_temperature': 1, 'lambda': 10, 'mode': 'UTCGP-NUM', 'mutation_rate': 1.1, 'n_nodes': 20, 'output_mutation_rate': 0.3}}\n"
     ]
    },
    {
     "name": "stderr",
     "output_type": "stream",
     "text": [
      " 35%|█████████████████████                                        | 226/654 [00:22<00:35, 12.10it/s]"
     ]
    },
    {
     "name": "stdout",
     "output_type": "stream",
     "text": [
      "{'h_params': {'budget': 25000, 'connection_temperature': 1, 'lambda': 10, 'mode': 'UTCGP-NUM', 'mutation_rate': 1.1, 'n_nodes': 20, 'output_mutation_rate': 0.3}}\n",
      "{'h_params': {'budget': 25000, 'connection_temperature': 1, 'lambda': 10, 'mode': 'UTCGP-NUM', 'mutation_rate': 1.1, 'n_nodes': 20, 'output_mutation_rate': 0.3}}\n",
      "{'h_params': {'budget': 25000, 'connection_temperature': 1, 'lambda': 10, 'mode': 'UTCGP-NUM', 'mutation_rate': 1.1, 'n_nodes': 20, 'output_mutation_rate': 0.3}}\n",
      "{'h_params': {'budget': 25000, 'connection_temperature': 1, 'lambda': 10, 'mode': 'UTCGP-NUM', 'mutation_rate': 1.1, 'n_nodes': 20, 'output_mutation_rate': 0.3}}\n",
      "{'h_params': {'budget': 25000, 'connection_temperature': 1, 'lambda': 10, 'mode': 'UTCGP-NUM', 'mutation_rate': 1.1, 'n_nodes': 20, 'output_mutation_rate': 0.3}}\n",
      "{'h_params': {'budget': 25000, 'connection_temperature': 1, 'lambda': 10, 'mode': 'MTCGP-NUM', 'mutation_rate': 1.1, 'n_nodes': 40, 'output_mutation_rate': 0.3}}\n"
     ]
    },
    {
     "name": "stderr",
     "output_type": "stream",
     "text": [
      " 35%|█████████████████████▎                                       | 229/654 [00:22<00:38, 10.94it/s]"
     ]
    },
    {
     "name": "stdout",
     "output_type": "stream",
     "text": [
      "{'h_params': {'budget': 25000, 'connection_temperature': 1, 'lambda': 10, 'mode': 'UTCGP-NUM', 'mutation_rate': 1.1, 'n_nodes': 20, 'output_mutation_rate': 0.3}}\n"
     ]
    },
    {
     "name": "stderr",
     "output_type": "stream",
     "text": [
      " 35%|█████████████████████▌                                       | 231/654 [00:23<00:45,  9.27it/s]"
     ]
    },
    {
     "name": "stdout",
     "output_type": "stream",
     "text": [
      "{'h_params': {'budget': 25000, 'connection_temperature': 1, 'lambda': 10, 'mode': 'UTCGP-NUM', 'mutation_rate': 1.1, 'n_nodes': 20, 'output_mutation_rate': 0.3}}\n",
      "{'h_params': {'budget': 25000, 'connection_temperature': 1, 'lambda': 10, 'mode': 'MTCGP-NUM', 'mutation_rate': 1.1, 'n_nodes': 40, 'output_mutation_rate': 0.3}}\n",
      "{'h_params': {'budget': 25000, 'connection_temperature': 1, 'lambda': 10, 'mode': 'MTCGP-NUM', 'mutation_rate': 1.1, 'n_nodes': 40, 'output_mutation_rate': 0.3}}\n",
      "{'h_params': {'budget': 25000, 'connection_temperature': 1, 'lambda': 10, 'mode': 'MTCGP-NUM', 'mutation_rate': 1.1, 'n_nodes': 40, 'output_mutation_rate': 0.3}}\n"
     ]
    },
    {
     "name": "stderr",
     "output_type": "stream",
     "text": [
      " 36%|██████████████████████                                       | 236/654 [00:23<00:45,  9.09it/s]"
     ]
    },
    {
     "name": "stdout",
     "output_type": "stream",
     "text": [
      "{'h_params': {'budget': 25000, 'connection_temperature': 1, 'lambda': 10, 'mode': 'MTCGP-NUM', 'mutation_rate': 1.1, 'n_nodes': 40, 'output_mutation_rate': 0.3}}\n",
      "{'h_params': {'budget': 25000, 'connection_temperature': 1, 'lambda': 10, 'mode': 'MTCGP-NUM', 'mutation_rate': 1.1, 'n_nodes': 40, 'output_mutation_rate': 0.3}}\n",
      "{'h_params': {'budget': 25000, 'connection_temperature': 1, 'lambda': 10, 'mode': 'UTCGP-NUM', 'mutation_rate': 1.1, 'n_nodes': 20, 'output_mutation_rate': 0.3}}\n"
     ]
    },
    {
     "name": "stderr",
     "output_type": "stream",
     "text": [
      " 37%|██████████████████████▋                                      | 243/654 [00:24<00:30, 13.58it/s]"
     ]
    },
    {
     "name": "stdout",
     "output_type": "stream",
     "text": [
      "{'h_params': {'budget': 25000, 'connection_temperature': 1, 'lambda': 10, 'mode': 'UTCGP-NUM', 'mutation_rate': 1.1, 'n_nodes': 20, 'output_mutation_rate': 0.3}}\n",
      "{'h_params': {'budget': 25000, 'connection_temperature': 1, 'lambda': 10, 'mode': 'MTCGP-NUM', 'mutation_rate': 1.1, 'n_nodes': 40, 'output_mutation_rate': 0.3}}\n",
      "{'h_params': {'budget': 25000, 'connection_temperature': 1, 'lambda': 10, 'mode': 'UTCGP-NUM', 'mutation_rate': 1.1, 'n_nodes': 20, 'output_mutation_rate': 0.3}}\n",
      "{'h_params': {'budget': 25000, 'connection_temperature': 1, 'lambda': 10, 'mode': 'MTCGP-NUM', 'mutation_rate': 1.1, 'n_nodes': 40, 'output_mutation_rate': 0.3}}\n",
      "{'h_params': {'budget': 25000, 'connection_temperature': 1, 'lambda': 10, 'mode': 'UTCGP-NUM', 'mutation_rate': 1.1, 'n_nodes': 20, 'output_mutation_rate': 0.3}}\n",
      "{'h_params': {'budget': 25000, 'connection_temperature': 1, 'lambda': 10, 'mode': 'MTCGP-NUM', 'mutation_rate': 1.1, 'n_nodes': 40, 'output_mutation_rate': 0.3}}\n",
      "{'h_params': {'budget': 25000, 'connection_temperature': 1, 'lambda': 10, 'mode': 'UTCGP-NUM', 'mutation_rate': 1.1, 'n_nodes': 20, 'output_mutation_rate': 0.3}}\n"
     ]
    },
    {
     "name": "stderr",
     "output_type": "stream",
     "text": [
      " 38%|██████████████████████▉                                      | 246/654 [00:24<00:36, 11.27it/s]"
     ]
    },
    {
     "name": "stdout",
     "output_type": "stream",
     "text": [
      "{'h_params': {'budget': 25000, 'connection_temperature': 1, 'lambda': 10, 'mode': 'UTCGP-NUM', 'mutation_rate': 1.1, 'n_nodes': 20, 'output_mutation_rate': 0.3}}\n",
      "{'h_params': {'budget': 25000, 'connection_temperature': 1, 'lambda': 10, 'mode': 'UTCGP-NUM', 'mutation_rate': 1.1, 'n_nodes': 20, 'output_mutation_rate': 0.3}}\n",
      "{'h_params': {'budget': 25000, 'connection_temperature': 1, 'lambda': 10, 'mode': 'UTCGP-NUM', 'mutation_rate': 1.1, 'n_nodes': 20, 'output_mutation_rate': 0.3}}\n",
      "{'h_params': {'budget': 25000, 'connection_temperature': 1, 'lambda': 10, 'mode': 'MTCGP-NUM', 'mutation_rate': 1.1, 'n_nodes': 40, 'output_mutation_rate': 0.3}}\n"
     ]
    },
    {
     "name": "stderr",
     "output_type": "stream",
     "text": [
      " 38%|███████████████████████▍                                     | 251/654 [00:24<00:33, 12.13it/s]"
     ]
    },
    {
     "name": "stdout",
     "output_type": "stream",
     "text": [
      "{'h_params': {'budget': 25000, 'connection_temperature': 1, 'lambda': 10, 'mode': 'UTCGP-NUM', 'mutation_rate': 1.1, 'n_nodes': 20, 'output_mutation_rate': 0.3}}\n",
      "{'h_params': {'budget': 25000, 'connection_temperature': 1, 'lambda': 10, 'mode': 'MTCGP-NUM', 'mutation_rate': 1.1, 'n_nodes': 40, 'output_mutation_rate': 0.3}}\n",
      "{'h_params': {'budget': 25000, 'connection_temperature': 1, 'lambda': 10, 'mode': 'UTCGP-NUM', 'mutation_rate': 1.1, 'n_nodes': 20, 'output_mutation_rate': 0.3}}\n",
      "{'h_params': {'budget': 25000, 'connection_temperature': 1, 'lambda': 10, 'mode': 'UTCGP-NUM', 'mutation_rate': 1.1, 'n_nodes': 20, 'output_mutation_rate': 0.3}}\n",
      "{'h_params': {'budget': 25000, 'connection_temperature': 1, 'lambda': 10, 'mode': 'UTCGP-NUM', 'mutation_rate': 1.1, 'n_nodes': 20, 'output_mutation_rate': 0.3}}\n",
      "{'h_params': {'budget': 25000, 'connection_temperature': 1, 'lambda': 10, 'mode': 'UTCGP-NUM', 'mutation_rate': 1.1, 'n_nodes': 20, 'output_mutation_rate': 0.3}}\n",
      "{'h_params': {'budget': 25000, 'connection_temperature': 1, 'lambda': 10, 'mode': 'UTCGP-NUM', 'mutation_rate': 1.1, 'n_nodes': 20, 'output_mutation_rate': 0.3}}\n",
      "{'h_params': {'budget': 25000, 'connection_temperature': 1, 'lambda': 10, 'mode': 'UTCGP-NUM', 'mutation_rate': 1.1, 'n_nodes': 20, 'output_mutation_rate': 0.3}}\n",
      "{'h_params': {'budget': 25000, 'connection_temperature': 1, 'lambda': 10, 'mode': 'UTCGP-NUM', 'mutation_rate': 1.1, 'n_nodes': 20, 'output_mutation_rate': 0.3}}\n"
     ]
    },
    {
     "name": "stderr",
     "output_type": "stream",
     "text": [
      " 39%|███████████████████████▉                                     | 257/654 [00:24<00:22, 17.61it/s]"
     ]
    },
    {
     "name": "stdout",
     "output_type": "stream",
     "text": [
      "{'h_params': {'budget': 25000, 'connection_temperature': 1, 'lambda': 10, 'mode': 'UTCGP-NUM', 'mutation_rate': 1.1, 'n_nodes': 20, 'output_mutation_rate': 0.3}}\n",
      "{'h_params': {'budget': 25000, 'connection_temperature': 1, 'lambda': 10, 'mode': 'UTCGP-NUM', 'mutation_rate': 1.1, 'n_nodes': 20, 'output_mutation_rate': 0.3}}\n"
     ]
    },
    {
     "name": "stderr",
     "output_type": "stream",
     "text": [
      " 40%|████████████████████████▎                                    | 260/654 [00:25<00:28, 14.05it/s]"
     ]
    },
    {
     "name": "stdout",
     "output_type": "stream",
     "text": [
      "{'h_params': {'budget': 25000, 'connection_temperature': 1, 'lambda': 10, 'mode': 'UTCGP-NUM', 'mutation_rate': 1.1, 'n_nodes': 20, 'output_mutation_rate': 0.3}}\n",
      "{'h_params': {'budget': 25000, 'connection_temperature': 1, 'lambda': 10, 'mode': 'UTCGP-NUM', 'mutation_rate': 1.1, 'n_nodes': 20, 'output_mutation_rate': 0.3}}\n",
      "{'h_params': {'budget': 25000, 'connection_temperature': 1, 'lambda': 10, 'mode': 'UTCGP-NUM', 'mutation_rate': 1.1, 'n_nodes': 20, 'output_mutation_rate': 0.3}}\n",
      "{'h_params': {'budget': 25000, 'connection_temperature': 1, 'lambda': 10, 'mode': 'UTCGP-NUM', 'mutation_rate': 1.1, 'n_nodes': 20, 'output_mutation_rate': 0.3}}\n",
      "{'h_params': {'budget': 25000, 'connection_temperature': 1, 'lambda': 10, 'mode': 'UTCGP-NUM', 'mutation_rate': 1.1, 'n_nodes': 20, 'output_mutation_rate': 0.3}}\n",
      "{'h_params': {'budget': 25000, 'connection_temperature': 1, 'lambda': 10, 'mode': 'MTCGP-NUM', 'mutation_rate': 1.1, 'n_nodes': 40, 'output_mutation_rate': 0.3}}\n"
     ]
    },
    {
     "name": "stderr",
     "output_type": "stream",
     "text": [
      " 41%|████████████████████████▋                                    | 265/654 [00:25<00:27, 14.26it/s]"
     ]
    },
    {
     "name": "stdout",
     "output_type": "stream",
     "text": [
      "{'h_params': {'budget': 25000, 'connection_temperature': 1, 'lambda': 10, 'mode': 'MTCGP-NUM', 'mutation_rate': 1.1, 'n_nodes': 40, 'output_mutation_rate': 0.3}}\n",
      "{'h_params': {'budget': 25000, 'connection_temperature': 1, 'lambda': 10, 'mode': 'MTCGP-NUM', 'mutation_rate': 1.1, 'n_nodes': 40, 'output_mutation_rate': 0.3}}\n"
     ]
    },
    {
     "name": "stderr",
     "output_type": "stream",
     "text": [
      " 41%|█████████████████████████▎                                   | 271/654 [00:26<00:24, 15.69it/s]"
     ]
    },
    {
     "name": "stdout",
     "output_type": "stream",
     "text": [
      "{'h_params': {'budget': 25000, 'connection_temperature': 1, 'lambda': 10, 'mode': 'UTCGP-NUM', 'mutation_rate': 1.1, 'n_nodes': 20, 'output_mutation_rate': 0.3}}\n",
      "{'h_params': {'budget': 25000, 'connection_temperature': 1, 'lambda': 10, 'mode': 'UTCGP-NUM', 'mutation_rate': 1.1, 'n_nodes': 20, 'output_mutation_rate': 0.3}}\n",
      "{'h_params': {'budget': 25000, 'connection_temperature': 1, 'lambda': 10, 'mode': 'UTCGP-NUM', 'mutation_rate': 1.1, 'n_nodes': 20, 'output_mutation_rate': 0.3}}\n",
      "{'h_params': {'budget': 25000, 'connection_temperature': 1, 'lambda': 10, 'mode': 'MTCGP-NUM', 'mutation_rate': 1.1, 'n_nodes': 40, 'output_mutation_rate': 0.3}}\n",
      "{'h_params': {'budget': 25000, 'connection_temperature': 1, 'lambda': 10, 'mode': 'UTCGP-NUM', 'mutation_rate': 1.1, 'n_nodes': 20, 'output_mutation_rate': 0.3}}\n",
      "{'h_params': {'budget': 25000, 'connection_temperature': 1, 'lambda': 10, 'mode': 'UTCGP-NUM', 'mutation_rate': 1.1, 'n_nodes': 20, 'output_mutation_rate': 0.3}}\n",
      "{'h_params': {'budget': 25000, 'connection_temperature': 1, 'lambda': 10, 'mode': 'UTCGP-NUM', 'mutation_rate': 1.1, 'n_nodes': 20, 'output_mutation_rate': 0.3}}\n",
      "{'h_params': {'budget': 25000, 'connection_temperature': 1, 'lambda': 10, 'mode': 'UTCGP-NUM', 'mutation_rate': 1.1, 'n_nodes': 20, 'output_mutation_rate': 0.3}}\n"
     ]
    },
    {
     "name": "stderr",
     "output_type": "stream",
     "text": [
      " 42%|█████████████████████████▋                                   | 275/654 [00:26<00:19, 19.40it/s]"
     ]
    },
    {
     "name": "stdout",
     "output_type": "stream",
     "text": [
      "{'h_params': {'budget': 25000, 'connection_temperature': 1, 'lambda': 10, 'mode': 'UTCGP-NUM', 'mutation_rate': 1.1, 'n_nodes': 20, 'output_mutation_rate': 0.3}}\n",
      "{'h_params': {'budget': 25000, 'connection_temperature': 1, 'lambda': 10, 'mode': 'UTCGP-NUM', 'mutation_rate': 1.1, 'n_nodes': 20, 'output_mutation_rate': 0.3}}\n",
      "{'h_params': {'budget': 25000, 'connection_temperature': 1, 'lambda': 10, 'mode': 'MTCGP-NUM', 'mutation_rate': 1.1, 'n_nodes': 40, 'output_mutation_rate': 0.3}}\n"
     ]
    },
    {
     "name": "stderr",
     "output_type": "stream",
     "text": [
      " 43%|█████████████████████████▉                                   | 278/654 [00:26<00:33, 11.16it/s]"
     ]
    },
    {
     "name": "stdout",
     "output_type": "stream",
     "text": [
      "{'h_params': {'budget': 25000, 'connection_temperature': 1, 'lambda': 10, 'mode': 'MTCGP-NUM', 'mutation_rate': 1.1, 'n_nodes': 40, 'output_mutation_rate': 0.3}}\n",
      "{'h_params': {'budget': 25000, 'connection_temperature': 1, 'lambda': 10, 'mode': 'MTCGP-NUM', 'mutation_rate': 1.1, 'n_nodes': 40, 'output_mutation_rate': 0.3}}\n"
     ]
    },
    {
     "name": "stderr",
     "output_type": "stream",
     "text": [
      " 43%|██████████████████████████▍                                  | 284/654 [00:27<00:29, 12.42it/s]"
     ]
    },
    {
     "name": "stdout",
     "output_type": "stream",
     "text": [
      "{'h_params': {'budget': 25000, 'connection_temperature': 1, 'lambda': 10, 'mode': 'MTCGP-NUM', 'mutation_rate': 1.1, 'n_nodes': 40, 'output_mutation_rate': 0.3}}\n",
      "{'h_params': {'budget': 25000, 'connection_temperature': 1, 'lambda': 10, 'mode': 'MTCGP-NUM', 'mutation_rate': 1.1, 'n_nodes': 40, 'output_mutation_rate': 0.3}}\n",
      "{'h_params': {'budget': 25000, 'connection_temperature': 1, 'lambda': 10, 'mode': 'MTCGP-NUM', 'mutation_rate': 1.1, 'n_nodes': 40, 'output_mutation_rate': 0.3}}\n",
      "{'h_params': {'budget': 25000, 'connection_temperature': 1, 'lambda': 10, 'mode': 'MTCGP-NUM', 'mutation_rate': 1.1, 'n_nodes': 40, 'output_mutation_rate': 0.3}}\n",
      "{'h_params': {'budget': 25000, 'connection_temperature': 1, 'lambda': 10, 'mode': 'MTCGP-NUM', 'mutation_rate': 1.1, 'n_nodes': 40, 'output_mutation_rate': 0.3}}\n",
      "{'h_params': {'budget': 25000, 'connection_temperature': 1, 'lambda': 10, 'mode': 'MTCGP-NUM', 'mutation_rate': 1.1, 'n_nodes': 40, 'output_mutation_rate': 0.3}}\n",
      "{'h_params': {'budget': 25000, 'connection_temperature': 1, 'lambda': 10, 'mode': 'UTCGP-NUM', 'mutation_rate': 1.1, 'n_nodes': 20, 'output_mutation_rate': 0.3}}\n"
     ]
    },
    {
     "name": "stderr",
     "output_type": "stream",
     "text": [
      " 44%|██████████████████████████▊                                  | 287/654 [00:27<00:32, 11.13it/s]"
     ]
    },
    {
     "name": "stdout",
     "output_type": "stream",
     "text": [
      "{'h_params': {'budget': 25000, 'connection_temperature': 1, 'lambda': 10, 'mode': 'MTCGP-NUM', 'mutation_rate': 1.1, 'n_nodes': 40, 'output_mutation_rate': 0.3}}\n",
      "{'h_params': {'budget': 25000, 'connection_temperature': 1, 'lambda': 10, 'mode': 'UTCGP-NUM', 'mutation_rate': 1.1, 'n_nodes': 20, 'output_mutation_rate': 0.3}}\n",
      "{'h_params': {'budget': 25000, 'connection_temperature': 1, 'lambda': 10, 'mode': 'UTCGP-NUM', 'mutation_rate': 1.1, 'n_nodes': 20, 'output_mutation_rate': 0.3}}\n"
     ]
    },
    {
     "name": "stderr",
     "output_type": "stream",
     "text": [
      " 45%|███████████████████████████▍                                 | 294/654 [00:28<00:26, 13.68it/s]"
     ]
    },
    {
     "name": "stdout",
     "output_type": "stream",
     "text": [
      "{'h_params': {'budget': 25000, 'connection_temperature': 1, 'lambda': 10, 'mode': 'MTCGP-NUM', 'mutation_rate': 1.1, 'n_nodes': 40, 'output_mutation_rate': 0.3}}\n",
      "{'h_params': {'budget': 25000, 'connection_temperature': 1, 'lambda': 10, 'mode': 'UTCGP-NUM', 'mutation_rate': 1.1, 'n_nodes': 20, 'output_mutation_rate': 0.3}}\n",
      "{'h_params': {'budget': 25000, 'connection_temperature': 1, 'lambda': 10, 'mode': 'MTCGP-NUM', 'mutation_rate': 1.1, 'n_nodes': 40, 'output_mutation_rate': 0.3}}\n",
      "{'h_params': {'budget': 25000, 'connection_temperature': 1, 'lambda': 10, 'mode': 'UTCGP-NUM', 'mutation_rate': 1.1, 'n_nodes': 20, 'output_mutation_rate': 0.3}}\n",
      "{'h_params': {'budget': 25000, 'connection_temperature': 1, 'lambda': 10, 'mode': 'UTCGP-NUM', 'mutation_rate': 1.1, 'n_nodes': 20, 'output_mutation_rate': 0.3}}\n",
      "{'h_params': {'budget': 25000, 'connection_temperature': 1, 'lambda': 10, 'mode': 'MTCGP-NUM', 'mutation_rate': 1.1, 'n_nodes': 40, 'output_mutation_rate': 0.3}}\n"
     ]
    },
    {
     "name": "stderr",
     "output_type": "stream",
     "text": [
      " 46%|███████████████████████████▉                                 | 300/654 [00:28<00:20, 17.63it/s]"
     ]
    },
    {
     "name": "stdout",
     "output_type": "stream",
     "text": [
      "{'h_params': {'budget': 25000, 'connection_temperature': 1, 'lambda': 10, 'mode': 'MTCGP-NUM', 'mutation_rate': 1.1, 'n_nodes': 40, 'output_mutation_rate': 0.3}}\n",
      "{'h_params': {'budget': 25000, 'connection_temperature': 1, 'lambda': 10, 'mode': 'UTCGP-NUM', 'mutation_rate': 1.1, 'n_nodes': 20, 'output_mutation_rate': 0.3}}\n",
      "{'h_params': {'budget': 25000, 'connection_temperature': 1, 'lambda': 10, 'mode': 'UTCGP-NUM', 'mutation_rate': 1.1, 'n_nodes': 20, 'output_mutation_rate': 0.3}}\n",
      "{'h_params': {'budget': 25000, 'connection_temperature': 1, 'lambda': 10, 'mode': 'MTCGP-NUM', 'mutation_rate': 1.1, 'n_nodes': 40, 'output_mutation_rate': 0.3}}\n",
      "{'h_params': {'budget': 25000, 'connection_temperature': 1, 'lambda': 10, 'mode': 'UTCGP-NUM', 'mutation_rate': 1.1, 'n_nodes': 20, 'output_mutation_rate': 0.3}}\n",
      "{'h_params': {'budget': 25000, 'connection_temperature': 1, 'lambda': 10, 'mode': 'UTCGP-NUM', 'mutation_rate': 1.1, 'n_nodes': 20, 'output_mutation_rate': 0.3}}\n",
      "{'h_params': {'budget': 25000, 'connection_temperature': 1, 'lambda': 10, 'mode': 'UTCGP-NUM', 'mutation_rate': 1.1, 'n_nodes': 20, 'output_mutation_rate': 0.3}}\n",
      "{'h_params': {'budget': 25000, 'connection_temperature': 1, 'lambda': 10, 'mode': 'UTCGP-NUM', 'mutation_rate': 1.1, 'n_nodes': 20, 'output_mutation_rate': 0.3}}\n",
      "{'h_params': {'budget': 25000, 'connection_temperature': 1, 'lambda': 10, 'mode': 'MTCGP-NUM', 'mutation_rate': 1.1, 'n_nodes': 40, 'output_mutation_rate': 0.3}}\n",
      "{'h_params': {'budget': 25000, 'connection_temperature': 1, 'lambda': 10, 'mode': 'MTCGP-NUM', 'mutation_rate': 1.1, 'n_nodes': 40, 'output_mutation_rate': 0.3}}\n"
     ]
    },
    {
     "name": "stderr",
     "output_type": "stream",
     "text": [
      " 47%|████████████████████████████▋                                | 307/654 [00:28<00:13, 26.67it/s]"
     ]
    },
    {
     "name": "stdout",
     "output_type": "stream",
     "text": [
      "{'h_params': {'budget': 25000, 'connection_temperature': 1, 'lambda': 10, 'mode': 'MTCGP-NUM', 'mutation_rate': 1.1, 'n_nodes': 40, 'output_mutation_rate': 0.3}}\n",
      "{'h_params': {'budget': 25000, 'connection_temperature': 1, 'lambda': 10, 'mode': 'UTCGP-NUM', 'mutation_rate': 1.1, 'n_nodes': 20, 'output_mutation_rate': 0.3}}\n",
      "{'h_params': {'budget': 25000, 'connection_temperature': 1, 'lambda': 10, 'mode': 'UTCGP-NUM', 'mutation_rate': 1.1, 'n_nodes': 20, 'output_mutation_rate': 0.3}}\n",
      "{'h_params': {'budget': 25000, 'connection_temperature': 1, 'lambda': 10, 'mode': 'UTCGP-NUM', 'mutation_rate': 1.1, 'n_nodes': 20, 'output_mutation_rate': 0.3}}\n"
     ]
    },
    {
     "name": "stderr",
     "output_type": "stream",
     "text": [
      " 48%|█████████████████████████████                                | 311/654 [00:28<00:21, 16.18it/s]"
     ]
    },
    {
     "name": "stdout",
     "output_type": "stream",
     "text": [
      "{'h_params': {'budget': 25000, 'connection_temperature': 1, 'lambda': 10, 'mode': 'UTCGP-NUM', 'mutation_rate': 1.1, 'n_nodes': 20, 'output_mutation_rate': 0.3}}\n",
      "{'h_params': {'budget': 25000, 'connection_temperature': 1, 'lambda': 10, 'mode': 'UTCGP-NUM', 'mutation_rate': 1.1, 'n_nodes': 20, 'output_mutation_rate': 0.3}}\n",
      "{'h_params': {'budget': 25000, 'connection_temperature': 1, 'lambda': 10, 'mode': 'UTCGP-NUM', 'mutation_rate': 1.1, 'n_nodes': 20, 'output_mutation_rate': 0.3}}\n",
      "{'h_params': {'budget': 25000, 'connection_temperature': 1, 'lambda': 10, 'mode': 'UTCGP-NUM', 'mutation_rate': 1.1, 'n_nodes': 20, 'output_mutation_rate': 0.3}}\n",
      "{'h_params': {'budget': 25000, 'connection_temperature': 1, 'lambda': 10, 'mode': 'MTCGP-NUM', 'mutation_rate': 1.1, 'n_nodes': 40, 'output_mutation_rate': 0.3}}\n"
     ]
    },
    {
     "name": "stderr",
     "output_type": "stream",
     "text": [
      " 48%|█████████████████████████████▍                               | 315/654 [00:29<00:22, 14.95it/s]"
     ]
    },
    {
     "name": "stdout",
     "output_type": "stream",
     "text": [
      "{'h_params': {'budget': 25000, 'connection_temperature': 1, 'lambda': 10, 'mode': 'MTCGP-NUM', 'mutation_rate': 1.1, 'n_nodes': 40, 'output_mutation_rate': 0.3}}\n"
     ]
    },
    {
     "name": "stderr",
     "output_type": "stream",
     "text": [
      " 50%|██████████████████████████████▏                              | 324/654 [00:29<00:16, 19.45it/s]"
     ]
    },
    {
     "name": "stdout",
     "output_type": "stream",
     "text": [
      "{'h_params': {'budget': 25000, 'connection_temperature': 1, 'lambda': 10, 'mode': 'UTCGP-NUM', 'mutation_rate': 1.1, 'n_nodes': 20, 'output_mutation_rate': 0.3}}\n",
      "{'h_params': {'budget': 25000, 'connection_temperature': 1, 'lambda': 10, 'mode': 'MTCGP-NUM', 'mutation_rate': 1.1, 'n_nodes': 40, 'output_mutation_rate': 0.3}}\n",
      "{'h_params': {'budget': 25000, 'connection_temperature': 1, 'lambda': 10, 'mode': 'UTCGP-NUM', 'mutation_rate': 1.1, 'n_nodes': 20, 'output_mutation_rate': 0.3}}\n",
      "{'h_params': {'budget': 25000, 'connection_temperature': 1, 'lambda': 10, 'mode': 'MTCGP-NUM', 'mutation_rate': 1.1, 'n_nodes': 40, 'output_mutation_rate': 0.3}}\n",
      "{'h_params': {'budget': 25000, 'connection_temperature': 1, 'lambda': 10, 'mode': 'UTCGP-NUM', 'mutation_rate': 1.1, 'n_nodes': 20, 'output_mutation_rate': 0.3}}\n",
      "{'h_params': {'budget': 25000, 'connection_temperature': 1, 'lambda': 10, 'mode': 'UTCGP-NUM', 'mutation_rate': 1.1, 'n_nodes': 20, 'output_mutation_rate': 0.3}}\n",
      "{'h_params': {'budget': 25000, 'connection_temperature': 1, 'lambda': 10, 'mode': 'UTCGP-NUM', 'mutation_rate': 1.1, 'n_nodes': 20, 'output_mutation_rate': 0.3}}\n",
      "{'h_params': {'budget': 25000, 'connection_temperature': 1, 'lambda': 10, 'mode': 'UTCGP-NUM', 'mutation_rate': 1.1, 'n_nodes': 20, 'output_mutation_rate': 0.3}}\n",
      "{'h_params': {'budget': 25000, 'connection_temperature': 1, 'lambda': 10, 'mode': 'UTCGP-NUM', 'mutation_rate': 1.1, 'n_nodes': 20, 'output_mutation_rate': 0.3}}\n",
      "{'h_params': {'budget': 25000, 'connection_temperature': 1, 'lambda': 10, 'mode': 'UTCGP-NUM', 'mutation_rate': 1.1, 'n_nodes': 20, 'output_mutation_rate': 0.3}}\n",
      "{'h_params': {'budget': 25000, 'connection_temperature': 1, 'lambda': 10, 'mode': 'UTCGP-NUM', 'mutation_rate': 1.1, 'n_nodes': 20, 'output_mutation_rate': 0.3}}\n",
      "{'h_params': {'budget': 25000, 'connection_temperature': 1, 'lambda': 10, 'mode': 'UTCGP-NUM', 'mutation_rate': 1.1, 'n_nodes': 20, 'output_mutation_rate': 0.3}}\n"
     ]
    },
    {
     "name": "stderr",
     "output_type": "stream",
     "text": [
      " 50%|██████████████████████████████▋                              | 329/654 [00:29<00:13, 23.81it/s]"
     ]
    },
    {
     "name": "stdout",
     "output_type": "stream",
     "text": [
      "{'h_params': {'budget': 25000, 'connection_temperature': 1, 'lambda': 10, 'mode': 'MTCGP-NUM', 'mutation_rate': 1.1, 'n_nodes': 40, 'output_mutation_rate': 0.3}}\n",
      "{'h_params': {'budget': 25000, 'connection_temperature': 1, 'lambda': 10, 'mode': 'MTCGP-NUM', 'mutation_rate': 1.1, 'n_nodes': 40, 'output_mutation_rate': 0.3}}\n",
      "{'h_params': {'budget': 25000, 'connection_temperature': 1, 'lambda': 10, 'mode': 'MTCGP-NUM', 'mutation_rate': 1.1, 'n_nodes': 40, 'output_mutation_rate': 0.3}}\n",
      "{'h_params': {'budget': 25000, 'connection_temperature': 1, 'lambda': 10, 'mode': 'MTCGP-NUM', 'mutation_rate': 1.1, 'n_nodes': 40, 'output_mutation_rate': 0.3}}\n",
      "{'h_params': {'budget': 25000, 'connection_temperature': 1, 'lambda': 10, 'mode': 'UTCGP-NUM', 'mutation_rate': 1.1, 'n_nodes': 20, 'output_mutation_rate': 0.3}}\n"
     ]
    },
    {
     "name": "stderr",
     "output_type": "stream",
     "text": [
      " 51%|███████████████████████████████                              | 333/654 [00:30<00:20, 15.64it/s]"
     ]
    },
    {
     "name": "stdout",
     "output_type": "stream",
     "text": [
      "{'h_params': {'budget': 25000, 'connection_temperature': 1, 'lambda': 10, 'mode': 'MTCGP-NUM', 'mutation_rate': 1.1, 'n_nodes': 40, 'output_mutation_rate': 0.3}}\n",
      "{'h_params': {'budget': 25000, 'connection_temperature': 1, 'lambda': 10, 'mode': 'UTCGP-NUM', 'mutation_rate': 1.1, 'n_nodes': 20, 'output_mutation_rate': 0.3}}\n",
      "{'h_params': {'budget': 25000, 'connection_temperature': 1, 'lambda': 10, 'mode': 'MTCGP-NUM', 'mutation_rate': 1.1, 'n_nodes': 40, 'output_mutation_rate': 0.3}}\n",
      "{'h_params': {'budget': 25000, 'connection_temperature': 1, 'lambda': 10, 'mode': 'UTCGP-NUM', 'mutation_rate': 1.1, 'n_nodes': 20, 'output_mutation_rate': 0.3}}\n"
     ]
    },
    {
     "name": "stderr",
     "output_type": "stream",
     "text": [
      " 52%|███████████████████████████████▍                             | 337/654 [00:30<00:21, 14.82it/s]"
     ]
    },
    {
     "name": "stdout",
     "output_type": "stream",
     "text": [
      "{'h_params': {'budget': 25000, 'connection_temperature': 1, 'lambda': 10, 'mode': 'UTCGP-NUM', 'mutation_rate': 1.1, 'n_nodes': 20, 'output_mutation_rate': 0.3}}\n",
      "{'h_params': {'budget': 25000, 'connection_temperature': 1, 'lambda': 10, 'mode': 'MTCGP-NUM', 'mutation_rate': 1.1, 'n_nodes': 40, 'output_mutation_rate': 0.3}}\n"
     ]
    },
    {
     "name": "stderr",
     "output_type": "stream",
     "text": [
      " 52%|███████████████████████████████▉                             | 343/654 [00:30<00:19, 15.56it/s]"
     ]
    },
    {
     "name": "stdout",
     "output_type": "stream",
     "text": [
      "{'h_params': {'budget': 25000, 'connection_temperature': 1, 'lambda': 10, 'mode': 'UTCGP-NUM', 'mutation_rate': 1.1, 'n_nodes': 20, 'output_mutation_rate': 0.3}}\n",
      "{'h_params': {'budget': 25000, 'connection_temperature': 1, 'lambda': 10, 'mode': 'MTCGP-NUM', 'mutation_rate': 1.1, 'n_nodes': 40, 'output_mutation_rate': 0.3}}\n",
      "{'h_params': {'budget': 25000, 'connection_temperature': 1, 'lambda': 10, 'mode': 'UTCGP-NUM', 'mutation_rate': 1.1, 'n_nodes': 20, 'output_mutation_rate': 0.3}}\n",
      "{'h_params': {'budget': 25000, 'connection_temperature': 1, 'lambda': 10, 'mode': 'MTCGP-NUM', 'mutation_rate': 1.1, 'n_nodes': 40, 'output_mutation_rate': 0.3}}\n",
      "{'h_params': {'budget': 25000, 'connection_temperature': 1, 'lambda': 10, 'mode': 'MTCGP-NUM', 'mutation_rate': 1.1, 'n_nodes': 40, 'output_mutation_rate': 0.3}}\n",
      "{'h_params': {'budget': 25000, 'connection_temperature': 1, 'lambda': 10, 'mode': 'UTCGP-NUM', 'mutation_rate': 1.1, 'n_nodes': 20, 'output_mutation_rate': 0.3}}\n",
      "{'h_params': {'budget': 25000, 'connection_temperature': 1, 'lambda': 10, 'mode': 'MTCGP-NUM', 'mutation_rate': 1.1, 'n_nodes': 40, 'output_mutation_rate': 0.3}}\n"
     ]
    },
    {
     "name": "stderr",
     "output_type": "stream",
     "text": [
      " 53%|████████████████████████████████▎                            | 346/654 [00:31<00:28, 10.75it/s]"
     ]
    },
    {
     "name": "stdout",
     "output_type": "stream",
     "text": [
      "{'h_params': {'budget': 25000, 'connection_temperature': 1, 'lambda': 10, 'mode': 'MTCGP-NUM', 'mutation_rate': 1.1, 'n_nodes': 40, 'output_mutation_rate': 0.3}}\n",
      "{'h_params': {'budget': 25000, 'connection_temperature': 1, 'lambda': 10, 'mode': 'UTCGP-NUM', 'mutation_rate': 1.1, 'n_nodes': 20, 'output_mutation_rate': 0.3}}\n"
     ]
    },
    {
     "name": "stderr",
     "output_type": "stream",
     "text": [
      " 54%|████████████████████████████████▊                            | 352/654 [00:31<00:22, 13.37it/s]"
     ]
    },
    {
     "name": "stdout",
     "output_type": "stream",
     "text": [
      "{'h_params': {'budget': 25000, 'connection_temperature': 1, 'lambda': 10, 'mode': 'MTCGP-NUM', 'mutation_rate': 1.1, 'n_nodes': 40, 'output_mutation_rate': 0.3}}\n",
      "{'h_params': {'budget': 25000, 'connection_temperature': 1, 'lambda': 10, 'mode': 'MTCGP-NUM', 'mutation_rate': 1.1, 'n_nodes': 40, 'output_mutation_rate': 0.3}}\n",
      "{'h_params': {'budget': 25000, 'connection_temperature': 1, 'lambda': 10, 'mode': 'MTCGP-NUM', 'mutation_rate': 1.1, 'n_nodes': 40, 'output_mutation_rate': 0.3}}\n",
      "{'h_params': {'budget': 25000, 'connection_temperature': 1, 'lambda': 10, 'mode': 'MTCGP-NUM', 'mutation_rate': 1.1, 'n_nodes': 40, 'output_mutation_rate': 0.3}}\n",
      "{'h_params': {'budget': 25000, 'connection_temperature': 1, 'lambda': 10, 'mode': 'MTCGP-NUM', 'mutation_rate': 1.1, 'n_nodes': 40, 'output_mutation_rate': 0.3}}\n"
     ]
    },
    {
     "name": "stderr",
     "output_type": "stream",
     "text": [
      " 54%|█████████████████████████████████                            | 355/654 [00:32<00:25, 11.96it/s]"
     ]
    },
    {
     "name": "stdout",
     "output_type": "stream",
     "text": [
      "{'h_params': {'budget': 25000, 'connection_temperature': 1, 'lambda': 10, 'mode': 'MTCGP-NUM', 'mutation_rate': 1.1, 'n_nodes': 40, 'output_mutation_rate': 0.3}}\n",
      "{'h_params': {'budget': 25000, 'connection_temperature': 1, 'lambda': 10, 'mode': 'MTCGP-NUM', 'mutation_rate': 1.1, 'n_nodes': 40, 'output_mutation_rate': 0.3}}\n",
      "{'h_params': {'budget': 25000, 'connection_temperature': 1, 'lambda': 10, 'mode': 'MTCGP-NUM', 'mutation_rate': 1.1, 'n_nodes': 40, 'output_mutation_rate': 0.3}}\n",
      "{'h_params': {'budget': 25000, 'connection_temperature': 1, 'lambda': 10, 'mode': 'UTCGP-NUM', 'mutation_rate': 1.1, 'n_nodes': 20, 'output_mutation_rate': 0.3}}\n"
     ]
    },
    {
     "name": "stderr",
     "output_type": "stream",
     "text": [
      " 55%|█████████████████████████████████▎                           | 357/654 [00:32<00:25, 11.66it/s]"
     ]
    },
    {
     "name": "stdout",
     "output_type": "stream",
     "text": [
      "{'h_params': {'budget': 25000, 'connection_temperature': 1, 'lambda': 10, 'mode': 'UTCGP-NUM', 'mutation_rate': 1.1, 'n_nodes': 20, 'output_mutation_rate': 0.3}}\n",
      "{'h_params': {'budget': 25000, 'connection_temperature': 1, 'lambda': 10, 'mode': 'UTCGP-NUM', 'mutation_rate': 1.1, 'n_nodes': 20, 'output_mutation_rate': 0.3}}\n",
      "{'h_params': {'budget': 25000, 'connection_temperature': 1, 'lambda': 10, 'mode': 'MTCGP-NUM', 'mutation_rate': 1.1, 'n_nodes': 40, 'output_mutation_rate': 0.3}}\n",
      "{'h_params': {'budget': 25000, 'connection_temperature': 1, 'lambda': 10, 'mode': 'UTCGP-NUM', 'mutation_rate': 1.1, 'n_nodes': 20, 'output_mutation_rate': 0.3}}\n"
     ]
    },
    {
     "name": "stderr",
     "output_type": "stream",
     "text": [
      " 55%|█████████████████████████████████▋                           | 361/654 [00:32<00:24, 11.75it/s]"
     ]
    },
    {
     "name": "stdout",
     "output_type": "stream",
     "text": [
      "{'h_params': {'budget': 25000, 'connection_temperature': 1, 'lambda': 10, 'mode': 'MTCGP-NUM', 'mutation_rate': 1.1, 'n_nodes': 40, 'output_mutation_rate': 0.3}}\n"
     ]
    },
    {
     "name": "stderr",
     "output_type": "stream",
     "text": [
      " 56%|█████████████████████████████████▊                           | 363/654 [00:32<00:29,  9.76it/s]"
     ]
    },
    {
     "name": "stdout",
     "output_type": "stream",
     "text": [
      "{'h_params': {'budget': 25000, 'connection_temperature': 1, 'lambda': 10, 'mode': 'MTCGP-NUM', 'mutation_rate': 1.1, 'n_nodes': 40, 'output_mutation_rate': 0.3}}\n",
      "{'h_params': {'budget': 25000, 'connection_temperature': 1, 'lambda': 10, 'mode': 'UTCGP-NUM', 'mutation_rate': 1.1, 'n_nodes': 20, 'output_mutation_rate': 0.3}}\n"
     ]
    },
    {
     "name": "stderr",
     "output_type": "stream",
     "text": [
      " 56%|██████████████████████████████████                           | 365/654 [00:33<00:32,  8.84it/s]"
     ]
    },
    {
     "name": "stdout",
     "output_type": "stream",
     "text": [
      "{'h_params': {'budget': 25000, 'connection_temperature': 1, 'lambda': 10, 'mode': 'UTCGP-NUM', 'mutation_rate': 1.1, 'n_nodes': 20, 'output_mutation_rate': 0.3}}\n",
      "{'h_params': {'budget': 25000, 'connection_temperature': 1, 'lambda': 10, 'mode': 'UTCGP-NUM', 'mutation_rate': 1.1, 'n_nodes': 20, 'output_mutation_rate': 0.3}}\n",
      "{'h_params': {'budget': 25000, 'connection_temperature': 1, 'lambda': 10, 'mode': 'UTCGP-NUM', 'mutation_rate': 1.1, 'n_nodes': 20, 'output_mutation_rate': 0.3}}\n",
      "{'h_params': {'budget': 25000, 'connection_temperature': 1, 'lambda': 10, 'mode': 'MTCGP-NUM', 'mutation_rate': 1.1, 'n_nodes': 40, 'output_mutation_rate': 0.3}}\n"
     ]
    },
    {
     "name": "stderr",
     "output_type": "stream",
     "text": [
      " 56%|██████████████████████████████████▎                          | 368/654 [00:33<00:32,  8.79it/s]"
     ]
    },
    {
     "name": "stdout",
     "output_type": "stream",
     "text": [
      "{'h_params': {'budget': 25000, 'connection_temperature': 1, 'lambda': 10, 'mode': 'UTCGP-NUM', 'mutation_rate': 1.1, 'n_nodes': 20, 'output_mutation_rate': 0.3}}\n"
     ]
    },
    {
     "name": "stderr",
     "output_type": "stream",
     "text": [
      " 57%|██████████████████████████████████▉                          | 375/654 [00:33<00:19, 14.03it/s]"
     ]
    },
    {
     "name": "stdout",
     "output_type": "stream",
     "text": [
      "{'h_params': {'budget': 25000, 'connection_temperature': 1, 'lambda': 10, 'mode': 'UTCGP-NUM', 'mutation_rate': 1.1, 'n_nodes': 20, 'output_mutation_rate': 0.3}}\n",
      "{'h_params': {'budget': 25000, 'connection_temperature': 1, 'lambda': 10, 'mode': 'UTCGP-NUM', 'mutation_rate': 1.1, 'n_nodes': 20, 'output_mutation_rate': 0.3}}\n",
      "{'h_params': {'budget': 25000, 'connection_temperature': 1, 'lambda': 10, 'mode': 'UTCGP-NUM', 'mutation_rate': 1.1, 'n_nodes': 20, 'output_mutation_rate': 0.3}}\n",
      "{'h_params': {'budget': 25000, 'connection_temperature': 1, 'lambda': 10, 'mode': 'MTCGP-NUM', 'mutation_rate': 1.1, 'n_nodes': 40, 'output_mutation_rate': 0.3}}\n",
      "{'h_params': {'budget': 25000, 'connection_temperature': 1, 'lambda': 10, 'mode': 'UTCGP-NUM', 'mutation_rate': 1.1, 'n_nodes': 20, 'output_mutation_rate': 0.3}}\n",
      "{'h_params': {'budget': 25000, 'connection_temperature': 1, 'lambda': 10, 'mode': 'UTCGP-NUM', 'mutation_rate': 1.1, 'n_nodes': 20, 'output_mutation_rate': 0.3}}\n",
      "{'h_params': {'budget': 25000, 'connection_temperature': 1, 'lambda': 10, 'mode': 'MTCGP-NUM', 'mutation_rate': 1.1, 'n_nodes': 40, 'output_mutation_rate': 0.3}}\n",
      "{'h_params': {'budget': 25000, 'connection_temperature': 1, 'lambda': 10, 'mode': 'MTCGP-NUM', 'mutation_rate': 1.1, 'n_nodes': 40, 'output_mutation_rate': 0.3}}\n",
      "{'h_params': {'budget': 25000, 'connection_temperature': 1, 'lambda': 10, 'mode': 'MTCGP-NUM', 'mutation_rate': 1.1, 'n_nodes': 40, 'output_mutation_rate': 0.3}}\n"
     ]
    },
    {
     "name": "stderr",
     "output_type": "stream",
     "text": [
      " 58%|███████████████████████████████████▌                         | 381/654 [00:34<00:16, 16.42it/s]"
     ]
    },
    {
     "name": "stdout",
     "output_type": "stream",
     "text": [
      "{'h_params': {'budget': 25000, 'connection_temperature': 1, 'lambda': 10, 'mode': 'MTCGP-NUM', 'mutation_rate': 1.1, 'n_nodes': 40, 'output_mutation_rate': 0.3}}\n",
      "{'h_params': {'budget': 25000, 'connection_temperature': 1, 'lambda': 10, 'mode': 'MTCGP-NUM', 'mutation_rate': 1.1, 'n_nodes': 40, 'output_mutation_rate': 0.3}}\n",
      "{'h_params': {'budget': 25000, 'connection_temperature': 1, 'lambda': 10, 'mode': 'MTCGP-NUM', 'mutation_rate': 1.1, 'n_nodes': 40, 'output_mutation_rate': 0.3}}\n",
      "{'h_params': {'budget': 25000, 'connection_temperature': 1, 'lambda': 10, 'mode': 'MTCGP-NUM', 'mutation_rate': 1.1, 'n_nodes': 40, 'output_mutation_rate': 0.3}}\n",
      "{'h_params': {'budget': 25000, 'connection_temperature': 1, 'lambda': 10, 'mode': 'MTCGP-NUM', 'mutation_rate': 1.1, 'n_nodes': 40, 'output_mutation_rate': 0.3}}\n"
     ]
    },
    {
     "name": "stderr",
     "output_type": "stream",
     "text": [
      " 59%|████████████████████████████████████                         | 386/654 [00:34<00:12, 21.20it/s]"
     ]
    },
    {
     "name": "stdout",
     "output_type": "stream",
     "text": [
      "{'h_params': {'budget': 25000, 'connection_temperature': 1, 'lambda': 10, 'mode': 'MTCGP-NUM', 'mutation_rate': 1.1, 'n_nodes': 40, 'output_mutation_rate': 0.3}}\n",
      "{'h_params': {'budget': 25000, 'connection_temperature': 1, 'lambda': 10, 'mode': 'MTCGP-NUM', 'mutation_rate': 1.1, 'n_nodes': 40, 'output_mutation_rate': 0.3}}\n",
      "{'h_params': {'budget': 25000, 'connection_temperature': 1, 'lambda': 10, 'mode': 'MTCGP-NUM', 'mutation_rate': 1.1, 'n_nodes': 40, 'output_mutation_rate': 0.3}}\n",
      "{'h_params': {'budget': 25000, 'connection_temperature': 1, 'lambda': 10, 'mode': 'MTCGP-NUM', 'mutation_rate': 1.1, 'n_nodes': 40, 'output_mutation_rate': 0.3}}\n",
      "{'h_params': {'budget': 25000, 'connection_temperature': 1, 'lambda': 10, 'mode': 'MTCGP-NUM', 'mutation_rate': 1.1, 'n_nodes': 40, 'output_mutation_rate': 0.3}}\n",
      "{'h_params': {'budget': 25000, 'connection_temperature': 1, 'lambda': 10, 'mode': 'MTCGP-NUM', 'mutation_rate': 1.1, 'n_nodes': 40, 'output_mutation_rate': 0.3}}\n",
      "{'h_params': {'budget': 25000, 'connection_temperature': 1, 'lambda': 10, 'mode': 'UTCGP-NUM', 'mutation_rate': 1.1, 'n_nodes': 20, 'output_mutation_rate': 0.3}}\n"
     ]
    },
    {
     "name": "stderr",
     "output_type": "stream",
     "text": [
      " 60%|████████████████████████████████████▍                        | 390/654 [00:34<00:15, 16.95it/s]"
     ]
    },
    {
     "name": "stdout",
     "output_type": "stream",
     "text": [
      "{'h_params': {'budget': 25000, 'connection_temperature': 1, 'lambda': 10, 'mode': 'MTCGP-NUM', 'mutation_rate': 1.1, 'n_nodes': 40, 'output_mutation_rate': 0.3}}\n",
      "{'h_params': {'budget': 25000, 'connection_temperature': 1, 'lambda': 10, 'mode': 'UTCGP-NUM', 'mutation_rate': 1.1, 'n_nodes': 20, 'output_mutation_rate': 0.3}}\n",
      "{'h_params': {'budget': 25000, 'connection_temperature': 1, 'lambda': 10, 'mode': 'UTCGP-NUM', 'mutation_rate': 1.1, 'n_nodes': 20, 'output_mutation_rate': 0.3}}\n",
      "{'h_params': {'budget': 25000, 'connection_temperature': 1, 'lambda': 10, 'mode': 'MTCGP-NUM', 'mutation_rate': 1.1, 'n_nodes': 40, 'output_mutation_rate': 0.3}}\n",
      "{'h_params': {'budget': 25000, 'connection_temperature': 1, 'lambda': 10, 'mode': 'UTCGP-NUM', 'mutation_rate': 1.1, 'n_nodes': 20, 'output_mutation_rate': 0.3}}\n"
     ]
    },
    {
     "name": "stderr",
     "output_type": "stream",
     "text": [
      " 61%|█████████████████████████████████████▎                       | 400/654 [00:35<00:12, 20.43it/s]"
     ]
    },
    {
     "name": "stdout",
     "output_type": "stream",
     "text": [
      "{'h_params': {'budget': 25000, 'connection_temperature': 1, 'lambda': 10, 'mode': 'UTCGP-NUM', 'mutation_rate': 1.1, 'n_nodes': 20, 'output_mutation_rate': 0.3}}\n",
      "{'h_params': {'budget': 25000, 'connection_temperature': 1, 'lambda': 10, 'mode': 'UTCGP-NUM', 'mutation_rate': 1.1, 'n_nodes': 20, 'output_mutation_rate': 0.3}}\n",
      "{'h_params': {'budget': 25000, 'connection_temperature': 1, 'lambda': 10, 'mode': 'MTCGP-NUM', 'mutation_rate': 1.1, 'n_nodes': 40, 'output_mutation_rate': 0.3}}\n",
      "{'h_params': {'budget': 25000, 'connection_temperature': 1, 'lambda': 10, 'mode': 'UTCGP-NUM', 'mutation_rate': 1.1, 'n_nodes': 20, 'output_mutation_rate': 0.3}}\n",
      "{'h_params': {'budget': 25000, 'connection_temperature': 1, 'lambda': 10, 'mode': 'UTCGP-NUM', 'mutation_rate': 1.1, 'n_nodes': 20, 'output_mutation_rate': 0.3}}\n",
      "{'h_params': {'budget': 25000, 'connection_temperature': 1, 'lambda': 10, 'mode': 'UTCGP-NUM', 'mutation_rate': 1.1, 'n_nodes': 20, 'output_mutation_rate': 0.3}}\n",
      "{'h_params': {'budget': 25000, 'connection_temperature': 1, 'lambda': 10, 'mode': 'MTCGP-NUM', 'mutation_rate': 1.1, 'n_nodes': 40, 'output_mutation_rate': 0.3}}\n",
      "{'h_params': {'budget': 25000, 'connection_temperature': 1, 'lambda': 10, 'mode': 'MTCGP-NUM', 'mutation_rate': 1.1, 'n_nodes': 40, 'output_mutation_rate': 0.3}}\n"
     ]
    },
    {
     "name": "stderr",
     "output_type": "stream",
     "text": [
      " 62%|█████████████████████████████████████▊                       | 406/654 [00:35<00:11, 21.35it/s]"
     ]
    },
    {
     "name": "stdout",
     "output_type": "stream",
     "text": [
      "{'h_params': {'budget': 25000, 'connection_temperature': 1, 'lambda': 10, 'mode': 'UTCGP-NUM', 'mutation_rate': 1.1, 'n_nodes': 20, 'output_mutation_rate': 0.3}}\n",
      "{'h_params': {'budget': 25000, 'connection_temperature': 1, 'lambda': 10, 'mode': 'UTCGP-NUM', 'mutation_rate': 1.1, 'n_nodes': 20, 'output_mutation_rate': 0.3}}\n",
      "{'h_params': {'budget': 25000, 'connection_temperature': 1, 'lambda': 10, 'mode': 'MTCGP-NUM', 'mutation_rate': 1.1, 'n_nodes': 40, 'output_mutation_rate': 0.3}}\n",
      "{'h_params': {'budget': 25000, 'connection_temperature': 1, 'lambda': 10, 'mode': 'MTCGP-NUM', 'mutation_rate': 1.1, 'n_nodes': 40, 'output_mutation_rate': 0.3}}\n",
      "{'h_params': {'budget': 25000, 'connection_temperature': 1, 'lambda': 10, 'mode': 'UTCGP-NUM', 'mutation_rate': 1.1, 'n_nodes': 20, 'output_mutation_rate': 0.3}}\n",
      "{'h_params': {'budget': 25000, 'connection_temperature': 1, 'lambda': 10, 'mode': 'UTCGP-NUM', 'mutation_rate': 1.1, 'n_nodes': 20, 'output_mutation_rate': 0.3}}\n"
     ]
    },
    {
     "name": "stderr",
     "output_type": "stream",
     "text": [
      " 63%|██████████████████████████████████████▏                      | 409/654 [00:36<00:27,  8.80it/s]"
     ]
    },
    {
     "name": "stdout",
     "output_type": "stream",
     "text": [
      "{'h_params': {'budget': 25000, 'connection_temperature': 1, 'lambda': 10, 'mode': 'MTCGP-NUM', 'mutation_rate': 1.1, 'n_nodes': 40, 'output_mutation_rate': 0.3}}\n"
     ]
    },
    {
     "name": "stderr",
     "output_type": "stream",
     "text": [
      " 63%|██████████████████████████████████████▎                      | 411/654 [00:36<00:31,  7.67it/s]"
     ]
    },
    {
     "name": "stdout",
     "output_type": "stream",
     "text": [
      "{'h_params': {'budget': 25000, 'connection_temperature': 1, 'lambda': 10, 'mode': 'UTCGP-NUM', 'mutation_rate': 1.1, 'n_nodes': 20, 'output_mutation_rate': 0.3}}\n",
      "{'h_params': {'budget': 25000, 'connection_temperature': 1, 'lambda': 10, 'mode': 'UTCGP-NUM', 'mutation_rate': 1.1, 'n_nodes': 20, 'output_mutation_rate': 0.3}}\n",
      "{'h_params': {'budget': 25000, 'connection_temperature': 1, 'lambda': 10, 'mode': 'MTCGP-NUM', 'mutation_rate': 1.1, 'n_nodes': 40, 'output_mutation_rate': 0.3}}\n"
     ]
    },
    {
     "name": "stderr",
     "output_type": "stream",
     "text": [
      " 64%|██████████████████████████████████████▉                      | 417/654 [00:37<00:23,  9.94it/s]"
     ]
    },
    {
     "name": "stdout",
     "output_type": "stream",
     "text": [
      "{'h_params': {'budget': 25000, 'connection_temperature': 1, 'lambda': 10, 'mode': 'MTCGP-NUM', 'mutation_rate': 1.1, 'n_nodes': 40, 'output_mutation_rate': 0.3}}\n",
      "{'h_params': {'budget': 25000, 'connection_temperature': 1, 'lambda': 10, 'mode': 'MTCGP-NUM', 'mutation_rate': 1.1, 'n_nodes': 40, 'output_mutation_rate': 0.3}}\n",
      "{'h_params': {'budget': 25000, 'connection_temperature': 1, 'lambda': 10, 'mode': 'MTCGP-NUM', 'mutation_rate': 1.1, 'n_nodes': 40, 'output_mutation_rate': 0.3}}\n",
      "{'h_params': {'budget': 25000, 'connection_temperature': 1, 'lambda': 10, 'mode': 'UTCGP-NUM', 'mutation_rate': 1.1, 'n_nodes': 20, 'output_mutation_rate': 0.3}}\n",
      "{'h_params': {'budget': 25000, 'connection_temperature': 1, 'lambda': 10, 'mode': 'UTCGP-NUM', 'mutation_rate': 1.1, 'n_nodes': 20, 'output_mutation_rate': 0.3}}\n",
      "{'h_params': {'budget': 25000, 'connection_temperature': 1, 'lambda': 10, 'mode': 'UTCGP-NUM', 'mutation_rate': 1.1, 'n_nodes': 20, 'output_mutation_rate': 0.3}}\n",
      "{'h_params': {'budget': 25000, 'connection_temperature': 1, 'lambda': 10, 'mode': 'UTCGP-NUM', 'mutation_rate': 1.1, 'n_nodes': 20, 'output_mutation_rate': 0.3}}\n"
     ]
    },
    {
     "name": "stderr",
     "output_type": "stream",
     "text": [
      " 64%|███████████████████████████████████████▏                     | 420/654 [00:37<00:24,  9.69it/s]"
     ]
    },
    {
     "name": "stdout",
     "output_type": "stream",
     "text": [
      "{'h_params': {'budget': 25000, 'connection_temperature': 1, 'lambda': 10, 'mode': 'UTCGP-NUM', 'mutation_rate': 1.1, 'n_nodes': 20, 'output_mutation_rate': 0.3}}\n",
      "{'h_params': {'budget': 25000, 'connection_temperature': 1, 'lambda': 10, 'mode': 'MTCGP-NUM', 'mutation_rate': 1.1, 'n_nodes': 40, 'output_mutation_rate': 0.3}}\n"
     ]
    },
    {
     "name": "stderr",
     "output_type": "stream",
     "text": [
      " 65%|███████████████████████████████████████▌                     | 424/654 [00:38<00:24,  9.34it/s]"
     ]
    },
    {
     "name": "stdout",
     "output_type": "stream",
     "text": [
      "{'h_params': {'budget': 25000, 'connection_temperature': 1, 'lambda': 10, 'mode': 'MTCGP-NUM', 'mutation_rate': 1.1, 'n_nodes': 40, 'output_mutation_rate': 0.3}}\n",
      "{'h_params': {'budget': 25000, 'connection_temperature': 1, 'lambda': 10, 'mode': 'MTCGP-NUM', 'mutation_rate': 1.1, 'n_nodes': 40, 'output_mutation_rate': 0.3}}\n",
      "{'h_params': {'budget': 25000, 'connection_temperature': 1, 'lambda': 10, 'mode': 'MTCGP-NUM', 'mutation_rate': 1.1, 'n_nodes': 40, 'output_mutation_rate': 0.3}}\n",
      "{'h_params': {'budget': 25000, 'connection_temperature': 1, 'lambda': 10, 'mode': 'MTCGP-NUM', 'mutation_rate': 1.1, 'n_nodes': 40, 'output_mutation_rate': 0.3}}\n",
      "{'h_params': {'budget': 25000, 'connection_temperature': 1, 'lambda': 10, 'mode': 'MTCGP-NUM', 'mutation_rate': 1.1, 'n_nodes': 40, 'output_mutation_rate': 0.3}}\n"
     ]
    },
    {
     "name": "stderr",
     "output_type": "stream",
     "text": [
      " 65%|███████████████████████████████████████▊                     | 427/654 [00:38<00:24,  9.45it/s]"
     ]
    },
    {
     "name": "stdout",
     "output_type": "stream",
     "text": [
      "{'h_params': {'budget': 25000, 'connection_temperature': 1, 'lambda': 10, 'mode': 'MTCGP-NUM', 'mutation_rate': 1.1, 'n_nodes': 40, 'output_mutation_rate': 0.3}}\n",
      "{'h_params': {'budget': 25000, 'connection_temperature': 1, 'lambda': 10, 'mode': 'UTCGP-NUM', 'mutation_rate': 1.1, 'n_nodes': 20, 'output_mutation_rate': 0.3}}\n"
     ]
    },
    {
     "name": "stderr",
     "output_type": "stream",
     "text": [
      " 66%|████████████████████████████████████████                     | 429/654 [00:38<00:27,  8.08it/s]"
     ]
    },
    {
     "name": "stdout",
     "output_type": "stream",
     "text": [
      "{'h_params': {'budget': 25000, 'connection_temperature': 1, 'lambda': 10, 'mode': 'MTCGP-NUM', 'mutation_rate': 1.1, 'n_nodes': 40, 'output_mutation_rate': 0.3}}\n",
      "{'h_params': {'budget': 25000, 'connection_temperature': 1, 'lambda': 10, 'mode': 'UTCGP-NUM', 'mutation_rate': 1.1, 'n_nodes': 20, 'output_mutation_rate': 0.3}}\n"
     ]
    },
    {
     "name": "stderr",
     "output_type": "stream",
     "text": [
      " 66%|████████████████████████████████████████▍                    | 434/654 [00:39<00:23,  9.42it/s]"
     ]
    },
    {
     "name": "stdout",
     "output_type": "stream",
     "text": [
      "{'h_params': {'budget': 25000, 'connection_temperature': 1, 'lambda': 10, 'mode': 'UTCGP-NUM', 'mutation_rate': 1.1, 'n_nodes': 20, 'output_mutation_rate': 0.3}}\n",
      "{'h_params': {'budget': 25000, 'connection_temperature': 1, 'lambda': 10, 'mode': 'UTCGP-NUM', 'mutation_rate': 1.1, 'n_nodes': 20, 'output_mutation_rate': 0.3}}\n",
      "{'h_params': {'budget': 25000, 'connection_temperature': 1, 'lambda': 10, 'mode': 'UTCGP-NUM', 'mutation_rate': 1.1, 'n_nodes': 20, 'output_mutation_rate': 0.3}}\n",
      "{'h_params': {'budget': 25000, 'connection_temperature': 1, 'lambda': 10, 'mode': 'UTCGP-NUM', 'mutation_rate': 1.1, 'n_nodes': 20, 'output_mutation_rate': 0.3}}\n",
      "{'h_params': {'budget': 25000, 'connection_temperature': 1, 'lambda': 10, 'mode': 'MTCGP-NUM', 'mutation_rate': 1.1, 'n_nodes': 40, 'output_mutation_rate': 0.3}}\n"
     ]
    },
    {
     "name": "stderr",
     "output_type": "stream",
     "text": [
      " 67%|█████████████████████████████████████████▏                   | 441/654 [00:39<00:17, 11.88it/s]"
     ]
    },
    {
     "name": "stdout",
     "output_type": "stream",
     "text": [
      "{'h_params': {'budget': 25000, 'connection_temperature': 1, 'lambda': 10, 'mode': 'MTCGP-NUM', 'mutation_rate': 1.1, 'n_nodes': 40, 'output_mutation_rate': 0.3}}\n",
      "{'h_params': {'budget': 25000, 'connection_temperature': 1, 'lambda': 10, 'mode': 'MTCGP-NUM', 'mutation_rate': 1.1, 'n_nodes': 40, 'output_mutation_rate': 0.3}}\n",
      "{'h_params': {'budget': 25000, 'connection_temperature': 1, 'lambda': 10, 'mode': 'MTCGP-NUM', 'mutation_rate': 1.1, 'n_nodes': 40, 'output_mutation_rate': 0.3}}\n",
      "{'h_params': {'budget': 25000, 'connection_temperature': 1, 'lambda': 10, 'mode': 'MTCGP-NUM', 'mutation_rate': 1.1, 'n_nodes': 40, 'output_mutation_rate': 0.3}}\n",
      "{'h_params': {'budget': 25000, 'connection_temperature': 1, 'lambda': 10, 'mode': 'MTCGP-NUM', 'mutation_rate': 1.1, 'n_nodes': 40, 'output_mutation_rate': 0.3}}\n",
      "{'h_params': {'budget': 25000, 'connection_temperature': 1, 'lambda': 10, 'mode': 'MTCGP-NUM', 'mutation_rate': 1.1, 'n_nodes': 40, 'output_mutation_rate': 0.3}}\n"
     ]
    },
    {
     "name": "stderr",
     "output_type": "stream",
     "text": [
      " 68%|█████████████████████████████████████████▍                   | 444/654 [00:40<00:19, 10.95it/s]"
     ]
    },
    {
     "name": "stdout",
     "output_type": "stream",
     "text": [
      "{'h_params': {'budget': 25000, 'connection_temperature': 1, 'lambda': 10, 'mode': 'MTCGP-NUM', 'mutation_rate': 1.1, 'n_nodes': 40, 'output_mutation_rate': 0.3}}\n",
      "{'h_params': {'budget': 25000, 'connection_temperature': 1, 'lambda': 10, 'mode': 'MTCGP-NUM', 'mutation_rate': 1.1, 'n_nodes': 40, 'output_mutation_rate': 0.3}}\n",
      "{'h_params': {'budget': 25000, 'connection_temperature': 1, 'lambda': 10, 'mode': 'MTCGP-NUM', 'mutation_rate': 1.1, 'n_nodes': 40, 'output_mutation_rate': 0.3}}\n",
      "{'h_params': {'budget': 25000, 'connection_temperature': 1, 'lambda': 10, 'mode': 'UTCGP-NUM', 'mutation_rate': 1.1, 'n_nodes': 20, 'output_mutation_rate': 0.3}}\n"
     ]
    },
    {
     "name": "stderr",
     "output_type": "stream",
     "text": [
      " 69%|█████████████████████████████████████████▉                   | 450/654 [00:40<00:16, 12.66it/s]"
     ]
    },
    {
     "name": "stdout",
     "output_type": "stream",
     "text": [
      "{'h_params': {'budget': 25000, 'connection_temperature': 1, 'lambda': 10, 'mode': 'UTCGP-NUM', 'mutation_rate': 1.1, 'n_nodes': 20, 'output_mutation_rate': 0.3}}\n",
      "{'h_params': {'budget': 25000, 'connection_temperature': 1, 'lambda': 10, 'mode': 'MTCGP-NUM', 'mutation_rate': 1.1, 'n_nodes': 40, 'output_mutation_rate': 0.3}}\n",
      "{'h_params': {'budget': 25000, 'connection_temperature': 1, 'lambda': 10, 'mode': 'UTCGP-NUM', 'mutation_rate': 1.1, 'n_nodes': 20, 'output_mutation_rate': 0.3}}\n",
      "{'h_params': {'budget': 25000, 'connection_temperature': 1, 'lambda': 10, 'mode': 'MTCGP-NUM', 'mutation_rate': 1.1, 'n_nodes': 40, 'output_mutation_rate': 0.3}}\n",
      "{'h_params': {'budget': 25000, 'connection_temperature': 1, 'lambda': 10, 'mode': 'MTCGP-NUM', 'mutation_rate': 1.1, 'n_nodes': 40, 'output_mutation_rate': 0.3}}\n",
      "{'h_params': {'budget': 25000, 'connection_temperature': 1, 'lambda': 10, 'mode': 'MTCGP-NUM', 'mutation_rate': 1.1, 'n_nodes': 40, 'output_mutation_rate': 0.3}}\n",
      "{'h_params': {'budget': 25000, 'connection_temperature': 1, 'lambda': 10, 'mode': 'UTCGP-NUM', 'mutation_rate': 1.1, 'n_nodes': 20, 'output_mutation_rate': 0.3}}\n"
     ]
    },
    {
     "name": "stderr",
     "output_type": "stream",
     "text": [
      " 70%|██████████████████████████████████████████▌                  | 456/654 [00:41<00:14, 13.64it/s]"
     ]
    },
    {
     "name": "stdout",
     "output_type": "stream",
     "text": [
      "{'h_params': {'budget': 25000, 'connection_temperature': 1, 'lambda': 10, 'mode': 'UTCGP-NUM', 'mutation_rate': 1.1, 'n_nodes': 20, 'output_mutation_rate': 0.3}}\n",
      "{'h_params': {'budget': 25000, 'connection_temperature': 1, 'lambda': 10, 'mode': 'UTCGP-NUM', 'mutation_rate': 1.1, 'n_nodes': 20, 'output_mutation_rate': 0.3}}\n",
      "{'h_params': {'budget': 25000, 'connection_temperature': 1, 'lambda': 10, 'mode': 'UTCGP-NUM', 'mutation_rate': 1.1, 'n_nodes': 20, 'output_mutation_rate': 0.3}}\n",
      "{'h_params': {'budget': 25000, 'connection_temperature': 1, 'lambda': 10, 'mode': 'UTCGP-NUM', 'mutation_rate': 1.1, 'n_nodes': 20, 'output_mutation_rate': 0.3}}\n",
      "{'h_params': {'budget': 25000, 'connection_temperature': 1, 'lambda': 10, 'mode': 'UTCGP-NUM', 'mutation_rate': 1.1, 'n_nodes': 20, 'output_mutation_rate': 0.3}}\n",
      "{'h_params': {'budget': 25000, 'connection_temperature': 1, 'lambda': 10, 'mode': 'UTCGP-NUM', 'mutation_rate': 1.1, 'n_nodes': 20, 'output_mutation_rate': 0.3}}\n",
      "{'h_params': {'budget': 25000, 'connection_temperature': 1, 'lambda': 10, 'mode': 'UTCGP-NUM', 'mutation_rate': 1.1, 'n_nodes': 20, 'output_mutation_rate': 0.3}}\n",
      "{'h_params': {'budget': 25000, 'connection_temperature': 1, 'lambda': 10, 'mode': 'UTCGP-NUM', 'mutation_rate': 1.1, 'n_nodes': 20, 'output_mutation_rate': 0.3}}\n"
     ]
    },
    {
     "name": "stderr",
     "output_type": "stream",
     "text": [
      " 71%|███████████████████████████████████████████                  | 462/654 [00:41<00:09, 20.57it/s]"
     ]
    },
    {
     "name": "stdout",
     "output_type": "stream",
     "text": [
      "{'h_params': {'budget': 25000, 'connection_temperature': 1, 'lambda': 10, 'mode': 'UTCGP-NUM', 'mutation_rate': 1.1, 'n_nodes': 20, 'output_mutation_rate': 0.3}}\n",
      "{'h_params': {'budget': 25000, 'connection_temperature': 1, 'lambda': 10, 'mode': 'UTCGP-NUM', 'mutation_rate': 1.1, 'n_nodes': 20, 'output_mutation_rate': 0.3}}\n",
      "{'h_params': {'budget': 25000, 'connection_temperature': 1, 'lambda': 10, 'mode': 'UTCGP-NUM', 'mutation_rate': 1.1, 'n_nodes': 20, 'output_mutation_rate': 0.3}}\n",
      "{'h_params': {'budget': 25000, 'connection_temperature': 1, 'lambda': 10, 'mode': 'UTCGP-NUM', 'mutation_rate': 1.1, 'n_nodes': 20, 'output_mutation_rate': 0.3}}\n",
      "{'h_params': {'budget': 25000, 'connection_temperature': 1, 'lambda': 10, 'mode': 'MTCGP-NUM', 'mutation_rate': 1.1, 'n_nodes': 40, 'output_mutation_rate': 0.3}}\n"
     ]
    },
    {
     "name": "stderr",
     "output_type": "stream",
     "text": [
      " 71%|███████████████████████████████████████████▍                 | 466/654 [00:41<00:11, 16.77it/s]"
     ]
    },
    {
     "name": "stdout",
     "output_type": "stream",
     "text": [
      "{'h_params': {'budget': 25000, 'connection_temperature': 1, 'lambda': 10, 'mode': 'UTCGP-NUM', 'mutation_rate': 1.1, 'n_nodes': 20, 'output_mutation_rate': 0.3}}\n",
      "{'h_params': {'budget': 25000, 'connection_temperature': 1, 'lambda': 10, 'mode': 'UTCGP-NUM', 'mutation_rate': 1.1, 'n_nodes': 20, 'output_mutation_rate': 0.3}}\n",
      "{'h_params': {'budget': 25000, 'connection_temperature': 1, 'lambda': 10, 'mode': 'UTCGP-NUM', 'mutation_rate': 1.1, 'n_nodes': 20, 'output_mutation_rate': 0.3}}\n",
      "{'h_params': {'budget': 25000, 'connection_temperature': 1, 'lambda': 10, 'mode': 'UTCGP-NUM', 'mutation_rate': 1.1, 'n_nodes': 20, 'output_mutation_rate': 0.3}}\n",
      "{'h_params': {'budget': 25000, 'connection_temperature': 1, 'lambda': 10, 'mode': 'MTCGP-NUM', 'mutation_rate': 1.1, 'n_nodes': 40, 'output_mutation_rate': 0.3}}\n"
     ]
    },
    {
     "name": "stderr",
     "output_type": "stream",
     "text": [
      " 72%|███████████████████████████████████████████▉                 | 471/654 [00:41<00:11, 16.19it/s]"
     ]
    },
    {
     "name": "stdout",
     "output_type": "stream",
     "text": [
      "{'h_params': {'budget': 25000, 'connection_temperature': 1, 'lambda': 10, 'mode': 'UTCGP-NUM', 'mutation_rate': 1.1, 'n_nodes': 20, 'output_mutation_rate': 0.3}}\n"
     ]
    },
    {
     "name": "stderr",
     "output_type": "stream",
     "text": [
      " 72%|████████████████████████████████████████████▏                | 474/654 [00:42<00:13, 13.61it/s]"
     ]
    },
    {
     "name": "stdout",
     "output_type": "stream",
     "text": [
      "{'h_params': {'budget': 25000, 'connection_temperature': 1, 'lambda': 10, 'mode': 'UTCGP-NUM', 'mutation_rate': 1.1, 'n_nodes': 20, 'output_mutation_rate': 0.3}}\n",
      "{'h_params': {'budget': 25000, 'connection_temperature': 1, 'lambda': 10, 'mode': 'UTCGP-NUM', 'mutation_rate': 1.1, 'n_nodes': 20, 'output_mutation_rate': 0.3}}\n",
      "{'h_params': {'budget': 25000, 'connection_temperature': 1, 'lambda': 10, 'mode': 'UTCGP-NUM', 'mutation_rate': 1.1, 'n_nodes': 20, 'output_mutation_rate': 0.3}}\n",
      "{'h_params': {'budget': 25000, 'connection_temperature': 1, 'lambda': 10, 'mode': 'UTCGP-NUM', 'mutation_rate': 1.1, 'n_nodes': 20, 'output_mutation_rate': 0.3}}\n",
      "{'h_params': {'budget': 25000, 'connection_temperature': 1, 'lambda': 10, 'mode': 'UTCGP-NUM', 'mutation_rate': 1.1, 'n_nodes': 20, 'output_mutation_rate': 0.3}}\n",
      "{'h_params': {'budget': 25000, 'connection_temperature': 1, 'lambda': 10, 'mode': 'MTCGP-NUM', 'mutation_rate': 1.1, 'n_nodes': 40, 'output_mutation_rate': 0.3}}\n"
     ]
    },
    {
     "name": "stderr",
     "output_type": "stream",
     "text": [
      " 73%|████████████████████████████████████████████▌                | 478/654 [00:42<00:13, 13.03it/s]"
     ]
    },
    {
     "name": "stdout",
     "output_type": "stream",
     "text": [
      "{'h_params': {'budget': 25000, 'connection_temperature': 1, 'lambda': 10, 'mode': 'UTCGP-NUM', 'mutation_rate': 1.1, 'n_nodes': 20, 'output_mutation_rate': 0.3}}\n"
     ]
    },
    {
     "name": "stderr",
     "output_type": "stream",
     "text": [
      " 73%|████████████████████████████████████████████▊                | 480/654 [00:42<00:15, 11.11it/s]"
     ]
    },
    {
     "name": "stdout",
     "output_type": "stream",
     "text": [
      "{'h_params': {'budget': 25000, 'connection_temperature': 1, 'lambda': 10, 'mode': 'UTCGP-NUM', 'mutation_rate': 1.1, 'n_nodes': 20, 'output_mutation_rate': 0.3}}\n",
      "{'h_params': {'budget': 25000, 'connection_temperature': 1, 'lambda': 10, 'mode': 'UTCGP-NUM', 'mutation_rate': 1.1, 'n_nodes': 20, 'output_mutation_rate': 0.3}}\n",
      "{'h_params': {'budget': 25000, 'connection_temperature': 1, 'lambda': 10, 'mode': 'UTCGP-NUM', 'mutation_rate': 1.1, 'n_nodes': 20, 'output_mutation_rate': 0.3}}\n",
      "{'h_params': {'budget': 25000, 'connection_temperature': 1, 'lambda': 10, 'mode': 'UTCGP-NUM', 'mutation_rate': 1.1, 'n_nodes': 20, 'output_mutation_rate': 0.3}}\n",
      "{'h_params': {'budget': 25000, 'connection_temperature': 1, 'lambda': 10, 'mode': 'MTCGP-NUM', 'mutation_rate': 1.1, 'n_nodes': 40, 'output_mutation_rate': 0.3}}\n"
     ]
    },
    {
     "name": "stderr",
     "output_type": "stream",
     "text": [
      " 75%|█████████████████████████████████████████████▌               | 488/654 [00:43<00:12, 13.81it/s]"
     ]
    },
    {
     "name": "stdout",
     "output_type": "stream",
     "text": [
      "{'h_params': {'budget': 25000, 'connection_temperature': 1, 'lambda': 10, 'mode': 'MTCGP-NUM', 'mutation_rate': 1.1, 'n_nodes': 40, 'output_mutation_rate': 0.3}}\n",
      "{'h_params': {'budget': 25000, 'connection_temperature': 1, 'lambda': 10, 'mode': 'MTCGP-NUM', 'mutation_rate': 1.1, 'n_nodes': 40, 'output_mutation_rate': 0.3}}\n",
      "{'h_params': {'budget': 25000, 'connection_temperature': 1, 'lambda': 10, 'mode': 'MTCGP-NUM', 'mutation_rate': 1.1, 'n_nodes': 40, 'output_mutation_rate': 0.3}}\n",
      "{'h_params': {'budget': 25000, 'connection_temperature': 1, 'lambda': 10, 'mode': 'MTCGP-NUM', 'mutation_rate': 1.1, 'n_nodes': 40, 'output_mutation_rate': 0.3}}\n",
      "{'h_params': {'budget': 25000, 'connection_temperature': 1, 'lambda': 10, 'mode': 'UTCGP-NUM', 'mutation_rate': 1.1, 'n_nodes': 20, 'output_mutation_rate': 0.3}}\n"
     ]
    },
    {
     "name": "stderr",
     "output_type": "stream",
     "text": [
      " 76%|██████████████████████████████████████████████               | 494/654 [00:43<00:10, 14.60it/s]"
     ]
    },
    {
     "name": "stdout",
     "output_type": "stream",
     "text": [
      "{'h_params': {'budget': 25000, 'connection_temperature': 1, 'lambda': 10, 'mode': 'MTCGP-NUM', 'mutation_rate': 1.1, 'n_nodes': 40, 'output_mutation_rate': 0.3}}\n",
      "{'h_params': {'budget': 25000, 'connection_temperature': 1, 'lambda': 10, 'mode': 'MTCGP-NUM', 'mutation_rate': 1.1, 'n_nodes': 40, 'output_mutation_rate': 0.3}}\n",
      "{'h_params': {'budget': 25000, 'connection_temperature': 1, 'lambda': 10, 'mode': 'MTCGP-NUM', 'mutation_rate': 1.1, 'n_nodes': 40, 'output_mutation_rate': 0.3}}\n",
      "{'h_params': {'budget': 25000, 'connection_temperature': 1, 'lambda': 10, 'mode': 'UTCGP-NUM', 'mutation_rate': 1.1, 'n_nodes': 20, 'output_mutation_rate': 0.3}}\n",
      "{'h_params': {'budget': 25000, 'connection_temperature': 1, 'lambda': 10, 'mode': 'MTCGP-NUM', 'mutation_rate': 1.1, 'n_nodes': 40, 'output_mutation_rate': 0.3}}\n",
      "{'h_params': {'budget': 25000, 'connection_temperature': 1, 'lambda': 10, 'mode': 'UTCGP-NUM', 'mutation_rate': 1.1, 'n_nodes': 20, 'output_mutation_rate': 0.3}}\n",
      "{'h_params': {'budget': 25000, 'connection_temperature': 1, 'lambda': 10, 'mode': 'UTCGP-NUM', 'mutation_rate': 1.1, 'n_nodes': 20, 'output_mutation_rate': 0.3}}\n",
      "{'h_params': {'budget': 25000, 'connection_temperature': 1, 'lambda': 10, 'mode': 'MTCGP-NUM', 'mutation_rate': 1.1, 'n_nodes': 40, 'output_mutation_rate': 0.3}}\n"
     ]
    },
    {
     "name": "stderr",
     "output_type": "stream",
     "text": [
      " 76%|██████████████████████████████████████████████▋              | 500/654 [00:44<00:10, 14.63it/s]"
     ]
    },
    {
     "name": "stdout",
     "output_type": "stream",
     "text": [
      "{'h_params': {'budget': 25000, 'connection_temperature': 1, 'lambda': 10, 'mode': 'UTCGP-NUM', 'mutation_rate': 1.1, 'n_nodes': 20, 'output_mutation_rate': 0.3}}\n",
      "{'h_params': {'budget': 25000, 'connection_temperature': 1, 'lambda': 10, 'mode': 'MTCGP-NUM', 'mutation_rate': 1.1, 'n_nodes': 40, 'output_mutation_rate': 0.3}}\n",
      "{'h_params': {'budget': 25000, 'connection_temperature': 1, 'lambda': 10, 'mode': 'MTCGP-NUM', 'mutation_rate': 1.1, 'n_nodes': 40, 'output_mutation_rate': 0.3}}\n",
      "{'h_params': {'budget': 25000, 'connection_temperature': 1, 'lambda': 10, 'mode': 'UTCGP-NUM', 'mutation_rate': 1.1, 'n_nodes': 20, 'output_mutation_rate': 0.3}}\n",
      "{'h_params': {'budget': 25000, 'connection_temperature': 1, 'lambda': 10, 'mode': 'MTCGP-NUM', 'mutation_rate': 1.1, 'n_nodes': 40, 'output_mutation_rate': 0.3}}\n",
      "{'h_params': {'budget': 25000, 'connection_temperature': 1, 'lambda': 10, 'mode': 'MTCGP-NUM', 'mutation_rate': 1.1, 'n_nodes': 40, 'output_mutation_rate': 0.3}}\n",
      "{'h_params': {'budget': 25000, 'connection_temperature': 1, 'lambda': 10, 'mode': 'UTCGP-NUM', 'mutation_rate': 1.1, 'n_nodes': 20, 'output_mutation_rate': 0.3}}\n"
     ]
    },
    {
     "name": "stderr",
     "output_type": "stream",
     "text": [
      " 78%|███████████████████████████████████████████████▍             | 508/654 [00:44<00:09, 15.02it/s]"
     ]
    },
    {
     "name": "stdout",
     "output_type": "stream",
     "text": [
      "{'h_params': {'budget': 25000, 'connection_temperature': 1, 'lambda': 10, 'mode': 'MTCGP-NUM', 'mutation_rate': 1.1, 'n_nodes': 40, 'output_mutation_rate': 0.3}}\n",
      "{'h_params': {'budget': 25000, 'connection_temperature': 1, 'lambda': 10, 'mode': 'UTCGP-NUM', 'mutation_rate': 1.1, 'n_nodes': 20, 'output_mutation_rate': 0.3}}\n",
      "{'h_params': {'budget': 25000, 'connection_temperature': 1, 'lambda': 10, 'mode': 'UTCGP-NUM', 'mutation_rate': 1.1, 'n_nodes': 20, 'output_mutation_rate': 0.3}}\n",
      "{'h_params': {'budget': 25000, 'connection_temperature': 1, 'lambda': 10, 'mode': 'UTCGP-NUM', 'mutation_rate': 1.1, 'n_nodes': 20, 'output_mutation_rate': 0.3}}\n",
      "{'h_params': {'budget': 25000, 'connection_temperature': 1, 'lambda': 10, 'mode': 'MTCGP-NUM', 'mutation_rate': 1.1, 'n_nodes': 40, 'output_mutation_rate': 0.3}}\n",
      "{'h_params': {'budget': 25000, 'connection_temperature': 1, 'lambda': 10, 'mode': 'UTCGP-NUM', 'mutation_rate': 1.1, 'n_nodes': 20, 'output_mutation_rate': 0.3}}\n"
     ]
    },
    {
     "name": "stderr",
     "output_type": "stream",
     "text": [
      " 79%|████████████████████████████████████████████████▏            | 516/654 [00:45<00:06, 20.26it/s]"
     ]
    },
    {
     "name": "stdout",
     "output_type": "stream",
     "text": [
      "{'h_params': {'budget': 25000, 'connection_temperature': 1, 'lambda': 10, 'mode': 'UTCGP-NUM', 'mutation_rate': 1.1, 'n_nodes': 20, 'output_mutation_rate': 0.3}}\n",
      "{'h_params': {'budget': 25000, 'connection_temperature': 1, 'lambda': 10, 'mode': 'UTCGP-NUM', 'mutation_rate': 1.1, 'n_nodes': 20, 'output_mutation_rate': 0.3}}\n",
      "{'h_params': {'budget': 25000, 'connection_temperature': 1, 'lambda': 10, 'mode': 'UTCGP-NUM', 'mutation_rate': 1.1, 'n_nodes': 20, 'output_mutation_rate': 0.3}}\n",
      "{'h_params': {'budget': 25000, 'connection_temperature': 1, 'lambda': 10, 'mode': 'UTCGP-NUM', 'mutation_rate': 1.1, 'n_nodes': 20, 'output_mutation_rate': 0.3}}\n",
      "{'h_params': {'budget': 25000, 'connection_temperature': 1, 'lambda': 10, 'mode': 'UTCGP-NUM', 'mutation_rate': 1.1, 'n_nodes': 20, 'output_mutation_rate': 0.3}}\n",
      "{'h_params': {'budget': 25000, 'connection_temperature': 1, 'lambda': 10, 'mode': 'MTCGP-NUM', 'mutation_rate': 1.1, 'n_nodes': 40, 'output_mutation_rate': 0.3}}\n"
     ]
    },
    {
     "name": "stderr",
     "output_type": "stream",
     "text": [
      " 80%|████████████████████████████████████████████████▌            | 520/654 [00:45<00:05, 23.75it/s]"
     ]
    },
    {
     "name": "stdout",
     "output_type": "stream",
     "text": [
      "{'h_params': {'budget': 25000, 'connection_temperature': 1, 'lambda': 10, 'mode': 'UTCGP-NUM', 'mutation_rate': 1.1, 'n_nodes': 20, 'output_mutation_rate': 0.3}}\n",
      "{'h_params': {'budget': 25000, 'connection_temperature': 1, 'lambda': 10, 'mode': 'UTCGP-NUM', 'mutation_rate': 1.1, 'n_nodes': 20, 'output_mutation_rate': 0.3}}\n",
      "{'h_params': {'budget': 25000, 'connection_temperature': 1, 'lambda': 10, 'mode': 'MTCGP-NUM', 'mutation_rate': 1.1, 'n_nodes': 40, 'output_mutation_rate': 0.3}}\n",
      "{'h_params': {'budget': 25000, 'connection_temperature': 1, 'lambda': 10, 'mode': 'MTCGP-NUM', 'mutation_rate': 1.1, 'n_nodes': 40, 'output_mutation_rate': 0.3}}\n",
      "{'h_params': {'budget': 25000, 'connection_temperature': 1, 'lambda': 10, 'mode': 'UTCGP-NUM', 'mutation_rate': 1.1, 'n_nodes': 20, 'output_mutation_rate': 0.3}}\n",
      "{'h_params': {'budget': 25000, 'connection_temperature': 1, 'lambda': 10, 'mode': 'MTCGP-NUM', 'mutation_rate': 1.1, 'n_nodes': 40, 'output_mutation_rate': 0.3}}\n",
      "{'h_params': {'budget': 25000, 'connection_temperature': 1, 'lambda': 10, 'mode': 'UTCGP-NUM', 'mutation_rate': 1.1, 'n_nodes': 20, 'output_mutation_rate': 0.3}}\n"
     ]
    },
    {
     "name": "stderr",
     "output_type": "stream",
     "text": [
      " 81%|█████████████████████████████████████████████████▏           | 528/654 [00:45<00:04, 28.19it/s]"
     ]
    },
    {
     "name": "stdout",
     "output_type": "stream",
     "text": [
      "{'h_params': {'budget': 25000, 'connection_temperature': 1, 'lambda': 10, 'mode': 'UTCGP-NUM', 'mutation_rate': 1.1, 'n_nodes': 20, 'output_mutation_rate': 0.3}}\n",
      "{'h_params': {'budget': 25000, 'connection_temperature': 1, 'lambda': 10, 'mode': 'UTCGP-NUM', 'mutation_rate': 1.1, 'n_nodes': 20, 'output_mutation_rate': 0.3}}\n",
      "{'h_params': {'budget': 25000, 'connection_temperature': 1, 'lambda': 10, 'mode': 'MTCGP-NUM', 'mutation_rate': 1.1, 'n_nodes': 40, 'output_mutation_rate': 0.3}}\n",
      "{'h_params': {'budget': 25000, 'connection_temperature': 1, 'lambda': 10, 'mode': 'UTCGP-NUM', 'mutation_rate': 1.1, 'n_nodes': 20, 'output_mutation_rate': 0.3}}\n",
      "{'h_params': {'budget': 25000, 'connection_temperature': 1, 'lambda': 10, 'mode': 'MTCGP-NUM', 'mutation_rate': 1.1, 'n_nodes': 40, 'output_mutation_rate': 0.3}}\n",
      "{'h_params': {'budget': 25000, 'connection_temperature': 1, 'lambda': 10, 'mode': 'MTCGP-NUM', 'mutation_rate': 1.1, 'n_nodes': 40, 'output_mutation_rate': 0.3}}\n",
      "{'h_params': {'budget': 25000, 'connection_temperature': 1, 'lambda': 10, 'mode': 'MTCGP-NUM', 'mutation_rate': 1.1, 'n_nodes': 40, 'output_mutation_rate': 0.3}}\n"
     ]
    },
    {
     "name": "stderr",
     "output_type": "stream",
     "text": [
      "100%|█████████████████████████████████████████████████████████████| 654/654 [00:45<00:00, 14.33it/s]\n"
     ]
    }
   ],
   "source": [
    "import pdb\n",
    "from aim import Repo\n",
    "import numpy as np\n",
    "import pandas as pd\n",
    "\n",
    "repo = Repo(\"./\")\n",
    "query = 'metric.name == \"loss\" and run.experiment == \"CAMEL CASE\" and run.h_params.mode in [\"UTCGP-NUM\", \"MTCGP-NUM\", \"UTCGP-NUM-NOPRECOR\"]'\n",
    "\n",
    "print(repo)\n",
    "\n",
    "steps = list(range(25_000))\n",
    "Vs = []\n",
    "# Get collection of metrics\n",
    "for run_metrics_collection in repo.query_metrics(query).iter_runs():\n",
    "    for metric in run_metrics_collection:\n",
    "        v = np.zeros(25_000)\n",
    "        exp = metric.run.experiment\n",
    "        hash = metric.run.hash\n",
    "        mode = metric.run[\"h_params\"][\"mode\"]\n",
    "        # Get run params\n",
    "        params = metric.run[...]\n",
    "        print(params)\n",
    "        # Get metric values\n",
    "        steps, metric_values = metric.values.sparse_numpy()\n",
    "        n = metric_values.shape[0]\n",
    "        v[:n] = metric_values\n",
    "        data_pack = {\"hash\": hash, \"mode\": mode, \"values\": v}\n",
    "        Vs.append(data_pack)"
   ]
  },
  {
   "cell_type": "code",
   "execution_count": 17,
   "id": "54323c96-d774-4dc4-bb51-0db4be104a8e",
   "metadata": {},
   "outputs": [],
   "source": [
    "import pandas as pd "
   ]
  },
  {
   "cell_type": "code",
   "execution_count": 18,
   "id": "e78b3b45-8d80-4f4f-a09e-7e7f78b8b99f",
   "metadata": {},
   "outputs": [],
   "source": [
    "dfs = []\n",
    "for data in Vs: \n",
    "    d = pd.DataFrame()\n",
    "    d[\"values\"] = Vs[0][\"values\"]\n",
    "    d[\"hash\"] = Vs[0][\"hash\"]\n",
    "    d[\"mode\"] = Vs[0][\"mode\"]\n",
    "    dfs.append(d)\n"
   ]
  },
  {
   "cell_type": "code",
   "execution_count": 19,
   "id": "8f129880-538a-4036-8f41-0c5ad5d03138",
   "metadata": {},
   "outputs": [],
   "source": [
    "df = pd.concat(dfs)"
   ]
  },
  {
   "cell_type": "code",
   "execution_count": 24,
   "id": "1e469fa9-8cb9-44d0-8443-3692c1c3ee88",
   "metadata": {},
   "outputs": [],
   "source": [
    "df.reset_index(inplace = True)"
   ]
  },
  {
   "cell_type": "code",
   "execution_count": 30,
   "id": "27f5d600-cab6-41fd-ac6b-a0368aa0484d",
   "metadata": {},
   "outputs": [],
   "source": [
    "grp = df.groupby([\"index\",\"mode\"]).agg(mean_fitness = pd.NamedAgg(column=\"values\", aggfunc=\"mean\"))"
   ]
  },
  {
   "cell_type": "code",
   "execution_count": null,
   "id": "90c52ffe-0786-4844-9431-4683db34c54a",
   "metadata": {},
   "outputs": [],
   "source": [
    "import seaborn.objects as so\n",
    "\n",
    "(\n",
    "    so.Plot(\n",
    "        x=grp[\"index\"],\n",
    "        y= grp[\"mean_fitness\"],\n",
    "        #ymin=df.eval(\"value - std\"),\n",
    "        #ymax=df.eval(\"value + std\")\n",
    "    )\n",
    "    .add(so.Line())\n",
    "    #.add(so.Band())\n",
    ")"
   ]
  }
 ],
 "metadata": {
  "kernelspec": {
   "display_name": "Python 3 (ipykernel)",
   "language": "python",
   "name": "python3"
  },
  "language_info": {
   "codemirror_mode": {
    "name": "ipython",
    "version": 3
   },
   "file_extension": ".py",
   "mimetype": "text/x-python",
   "name": "python",
   "nbconvert_exporter": "python",
   "pygments_lexer": "ipython3",
   "version": "3.10.12"
  }
 },
 "nbformat": 4,
 "nbformat_minor": 5
}
