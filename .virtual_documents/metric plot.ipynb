import pdb
from aim import Repo
import numpy as np
import pandas as pd

repo = Repo("./")
query = 'metric.name == "loss" and run.experiment == "Basement" and run.h_params.stage== "PRESUB3"'

print(repo)




steps = list(range(25_000))
Vs = []
# Get collection of metrics
for run_metrics_collection in repo.query_metrics(query).iter_runs():
    for metric in run_metrics_collection:
        v = np.zeros(25_000)
        exp = metric.run.experiment
        hash = metric.run.hash
        mode = metric.run["h_params"]["mode"]
        # Get run params
        params = metric.run[...]
        print(params)
        # Get metric values
        steps, metric_values = metric.values.sparse_numpy()
        n = metric_values.shape[0]
        v[:n] = metric_values
        data_pack = {"hash": hash, "mode": mode, "values": v, "steps": steps}
        Vs.append(data_pack)


len(Vs[1]["steps"])


dfs = []
for data in Vs: 
    d = pd.DataFrame()
    d["values"] = data["values"]
    d["hash"] = data["hash"]
    d["mode"] = data["mode"]
    d["step"] = data["steps"]
    dfs.append(d)



len(Vs)


df = pd.concat(dfs)


df.reset_index(inplace= True)


c = df[df.index == 2598].copy()


c = c.reset_index(drop = True)


from matplotlib.pyplot import figure

figure(figsize=(8, 6), dpi=80)
df[df.hash == "70382b6a5a9344bcb8997e33"]["values"].plot() 


grp = df.groupby(["index","mode"]).agg(mean_fitness = pd.NamedAgg(column="values", aggfunc="mean"))



[a for a in metric.values.tolist()]


grp.reset_index(inplace = True)


std = np.std(grp["mean_fitness"].values)


grp.sort_values("index", inplace = True)


import seaborn.objects as so
from matplotlib.pyplot import figure

import seaborn as sns

sns.set(rc={'figure.figsize':(150, 15), "figure.dpi": 300})

(
    so.Plot(
        x=grp["index"],
        y= grp["mean_fitness"],
        color = grp["mode"],
        #ymin= grp["mean_fitness"]- std,
        #ymax= grp["mean_fitness"]+ std
    )
    .add(so.Line())
    #.add(so.Band())
    .layout(size=(15, 15))
)


import seaborn.objects as so
from matplotlib.pyplot import figure

import seaborn as sns

sns.set(rc={'figure.figsize':(150, 15), "figure.dpi": 300})

grp2 = grp[:200*3]
(
    so.Plot(
        x=grp2["index"],
        y= grp2["mean_fitness"],
        color = grp2["mode"],
        ymin= grp2["mean_fitness"]- std,
        ymax= grp2["mean_fitness"]+ std
    )
    .add(so.Line())
    .add(so.Band())
    .layout(size=(15, 15))
)


df.reset_index(inplace = True)
df.drop("hash", inplace = True,axis = 1)
df.pivot(index='index', columns='mode', values='values')



df.pivot(index='index', columns=["hash", 'mode'], values='values')







